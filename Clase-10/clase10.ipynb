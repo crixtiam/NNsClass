{
  "cells": [
    {
      "cell_type": "markdown",
      "metadata": {
        "id": "8Eqn3RtteZei"
      },
      "source": [
        "<div align=\"left\">\n",
        "<p><img alt=\"Sapiencia\" height=\"140px\" src=\"https://ubicua.ingeniaudea.co/pluginfile.php/32974/coursecat/description/RF_RedesNeuronales.png\" align=\"left\" hspace=\"10px\" vspace=\"0px\"></p></div>\n",
        "<div align=\"left\"></div>\n",
        "<div>\n",
        "\n",
        "<br></br>\n",
        "\n",
        "<div align=\"left\">\n",
        "<br></br>\n",
        "<br></br>\n",
        "\n",
        "\n",
        "\n",
        "<hr size=10 noshade color=\"#663398\">\n",
        "</p>\n",
        "<p>\n",
        "<img alt=\"CC\" height=\"70px\" src=\"https://creativecommons.org/images/deed/cc_blue_x2.png\" align=\"left\" hspace=\"0px\" vspace=\"0px\">\n",
        "<img alt=\"Attribution\" height=\"70px\" src=\"https://creativecommons.org/images/deed/attribution_icon_blue_x2.png\" align=\"left\" hspace=\"0px\" vspace=\"0px\">\n",
        "<img alt=\"NC\" height=\"70px\" src=\"https://creativecommons.org/images/deed/nc_blue_x2.png\" align=\"left\" hspace=\"0px\" vspace=\"0px\">\n",
        "<img alt=\"SA\" height=\"70px\" src=\"https://creativecommons.org/images/deed/sa_blue_x2.png\" align=\"left\" hspace=\"0px\" vspace=\"0px\">\n",
        "</p>\n",
        "\n",
        "<div align=\"right\">\n",
        "<h1> <b> Por: Cristiam Loaiza </b> </h1>\n",
        "<h2> Ingeniero de datos </h2>\n",
        "<a href=\"mailto:cristiam.loaiza@udea.edu.co\"> ✉ Cristiam Loaiza</a>\n",
        "</div>\n",
        "\n",
        "<br>\n",
        "\n",
        "**El presente material hace parte de la ruta de formación del talento especializado de SAPIENCIA**\n",
        "\n",
        "**Los documentos que utilizaremos en la presente y proximas clases son una mezcla del trabajo de muchos profesores y académicos.**\n",
        "\n",
        "**En caso de utilizar el presente contenido favor citarlo y brindar los créditos respectivos.**\n"
      ]
    },
    {
      "cell_type": "markdown",
      "metadata": {
        "id": "KvGkmbJKmJgO"
      },
      "source": [
        "<p><a name=\"contents\"></a></p>\n",
        "\n",
        "# Contenido\n",
        "\n",
        "- <a href=\"#Ejercicio\">1. Clases</a><br>\n",
        "\n",
        "* ¿Qué es una clase?\n",
        "* ¿Qué es un objeto?\n",
        "* ¿Cómo se crean las clases y los objetos?\n",
        "* Atributos y métodos de clase\n",
        "* ¿Qué son los atributos de clase?\n",
        "* ¿Qué son los métodos de clase?\n",
        "* ¿Cómo se utilizan los atributos y métodos de clase?\n",
        "* Herencia en Python\n",
        "* ¿Qué es la herencia?\n",
        "* ¿Cómo se implementa la herencia en Python?\n",
        "* ¿Cuáles son los beneficios de la herencia?\n",
        "* Polimorfismo en Python\n",
        "* ¿Qué es el polimorfismo?\n",
        "* ¿Cómo se implementa el polimorfismo en Python?\n",
        "* ¿Cuáles son los beneficios del polimorfismo?\n",
        "* Clases y objetos en la programación orientada a objetos\n",
        "* ¿Qué es la programación orientada a objetos?\n",
        "* ¿Cómo se utilizan las clases y los objetos en la programación orientada a objetos?\n",
        "* ¿Cuáles son los beneficios de la programación orientada a objetos?"
      ]
    },
    {
      "cell_type": "markdown",
      "metadata": {},
      "source": []
    },
    {
      "cell_type": "markdown",
      "metadata": {},
      "source": [
        "<p><a name=\"listas\"></a></p>\n",
        "\n",
        "# CLASES\n",
        "\n",
        "[[Contenidos]](#contents)"
      ]
    },
    {
      "cell_type": "code",
      "execution_count": 18,
      "metadata": {},
      "outputs": [],
      "source": [
        "class persona:\n",
        "    nombre= \"\"\n",
        "    edad = 0\n",
        "    sexo=\"\"\n",
        "\n",
        "    def IMC(self,peso,altura):\n",
        "        return peso/(altura**2)\n",
        "\n",
        "    def getNombre(self):\n",
        "        return self.nombre\n",
        "    \n",
        "    def setNombre(self,nombre):\n",
        "        self.nombre=nombre\n",
        "\n",
        "\n"
      ]
    },
    {
      "cell_type": "markdown",
      "metadata": {},
      "source": [
        "### ¿ QUE ES UNA CLASE ?\n",
        "\n",
        "Una clase en programación es una plantilla o plano para crear objetos. Una clase define las propiedades y los métodos que tendrá un objeto. Cuando se crea un objeto, se le asigna una clase. Esto significa que el objeto tendrá las propiedades y los métodos definidos en la clase.\n",
        "\n",
        "Las clases también se pueden utilizar para crear jerarquías de objetos. Por ejemplo, se puede tener una clase para representar a un animal, y luego crear subclases para representar a diferentes tipos de animales, como perros, gatos y pájaros. Esto permite reutilizar el código para los diferentes tipos de animales."
      ]
    },
    {
      "cell_type": "markdown",
      "metadata": {},
      "source": [
        "### HERENCIA\n",
        "\n",
        "La herencia es un mecanismo que permite a una clase heredar las propiedades y los métodos de otra clase. Esto significa que la clase hija puede acceder a todas las propiedades y métodos de la clase padre, además de tener sus propias propiedades y métodos.\n",
        "\n",
        "La herencia se utiliza para crear jerarquías de clases, donde cada clase es una subclase de la clase anterior. Esto permite reutilizar el código y facilita la creación de nuevas clases."
      ]
    },
    {
      "cell_type": "markdown",
      "metadata": {},
      "source": [
        "* **Clase:** Una clase es una plantilla para crear objetos. Define los atributos y métodos que estarán disponibles para todos los objetos creados a partir de ella.\n",
        "* **Objeto:** Un objeto es una instancia de una clase. Tiene los mismos atributos y métodos que la clase de la que fue creado.\n",
        "* **Atributo:** Un atributo es una variable que pertenece a un objeto. Puede ser de cualquier tipo de datos, como una cadena, un número o una lista.\n",
        "* **Método:** Un método es una función que pertenece a un objeto. Puede realizar cualquier tarea, como imprimir un mensaje, calcular un valor o cambiar el estado del objeto.\n",
        "* **Herencia:** La herencia es una relación entre dos clases en la que la clase derivada hereda los atributos y métodos de la clase base.\n",
        "* **Polimorfismo:** El polimorfismo es la capacidad de un objeto de comportarse de diferentes maneras dependiendo de su tipo."
      ]
    },
    {
      "cell_type": "markdown",
      "metadata": {},
      "source": [
        "### POLIMORFISMO\n",
        "\n",
        "El polimorfismo es una característica de la programación orientada a objetos que permite que objetos de diferentes clases respondan al mismo mensaje de diferentes maneras. Esto se puede lograr mediante la sobrecarga de métodos o la anulación de métodos.\n",
        "\n",
        "La sobrecarga de métodos se produce cuando una clase define varios métodos con el mismo nombre, pero con diferentes parámetros. Por ejemplo, una clase puede definir un método llamado \"dibujar\" que toma un objeto de tipo \"círculo\" como parámetro, y otro método llamado \"dibujar\" que toma un objeto de tipo \"cuadrado\" como parámetro. Cuando se llama al método \"dibujar\" en un objeto de tipo \"círculo\", se llamará al primer método, y cuando se llama al método \"dibujar\" en un objeto de tipo \"cuadrado\", se llamará al segundo método.\n",
        "\n",
        "La anulación de métodos se produce cuando una subclase define un método con el mismo nombre que un método definido en su superclase. Por ejemplo, una clase llamada \"círculo\" puede definir un método llamado \"dibujar\" que simplemente dibuja un círculo. Una subclase de \"círculo\" llamada \"círculo relleno\" puede anular el método \"dibujar\" para dibujar un círculo relleno.\n",
        "\n",
        "El polimorfismo se puede utilizar para lograr una serie de beneficios, entre ellos:\n",
        "\n",
        "* **Mayor flexibilidad:** El polimorfismo permite que el código se escriba de una manera más flexible, ya que no es necesario conocer el tipo específico de objeto que se está utilizando.\n",
        "* **Mayor reutilización:** El polimorfismo permite que el código se reutilice más fácilmente, ya que se puede escribir código que funcione con cualquier tipo de objeto que implemente una determinada interfaz.\n",
        "* **Mayor extensibilidad:** El polimorfismo permite que el código se extienda más fácilmente, ya que se pueden añadir nuevas clases sin tener que modificar el código existente.\n",
        "\n",
        "Aquí hay algunos ejemplos de polimorfismo en acción:\n",
        "\n",
        "* Una clase llamada \"forma\" puede definir un método llamado \"dibujar\" que simplemente dibuja una forma. Una subclase de \"forma\" llamada \"círculo\" puede anular el método \"dibujar\" para dibujar un círculo. Una subclase de \"forma\" llamada \"cuadrado\" puede anular el método \"dibujar\" para dibujar un cuadrado.\n",
        "* Una clase llamada \"animal\" puede definir un método llamado \"hablar\" que simplemente imprime el sonido"
      ]
    },
    {
      "cell_type": "markdown",
      "metadata": {},
      "source": []
    },
    {
      "cell_type": "markdown",
      "metadata": {},
      "source": [
        "Vehiculos... // atributos  // metodos para cambiar los atributos y retornar los valores de los atributos...."
      ]
    },
    {
      "cell_type": "code",
      "execution_count": 19,
      "metadata": {},
      "outputs": [],
      "source": [
        "juan = persona()"
      ]
    },
    {
      "cell_type": "code",
      "execution_count": 20,
      "metadata": {},
      "outputs": [],
      "source": [
        "juan.nombre = \"juan\"\n",
        "juan.edad = 17\n",
        "juan.sexo = \"Masculino\""
      ]
    },
    {
      "cell_type": "code",
      "execution_count": 21,
      "metadata": {},
      "outputs": [],
      "source": [
        "juan.setNombre(\"Andres\")"
      ]
    },
    {
      "cell_type": "code",
      "execution_count": 22,
      "metadata": {},
      "outputs": [
        {
          "data": {
            "text/plain": [
              "'Andres'"
            ]
          },
          "execution_count": 22,
          "metadata": {},
          "output_type": "execute_result"
        }
      ],
      "source": [
        "juan.getNombre()"
      ]
    },
    {
      "cell_type": "code",
      "execution_count": 23,
      "metadata": {},
      "outputs": [
        {
          "data": {
            "text/plain": [
              "28.075042938300964"
            ]
          },
          "execution_count": 23,
          "metadata": {},
          "output_type": "execute_result"
        }
      ],
      "source": [
        "juan.IMC(85,1.74)"
      ]
    },
    {
      "cell_type": "code",
      "execution_count": 8,
      "metadata": {},
      "outputs": [],
      "source": [
        "jeronimo = persona()\n",
        "jeronimo.nombre= \"jeronimo\"\n",
        "jeronimo.edad=25\n",
        "jeronimo.sexo=\"Masculino\""
      ]
    },
    {
      "cell_type": "code",
      "execution_count": 9,
      "metadata": {},
      "outputs": [
        {
          "data": {
            "text/plain": [
              "'juan'"
            ]
          },
          "execution_count": 9,
          "metadata": {},
          "output_type": "execute_result"
        }
      ],
      "source": [
        "juan.nombre"
      ]
    },
    {
      "cell_type": "code",
      "execution_count": 10,
      "metadata": {},
      "outputs": [
        {
          "data": {
            "text/plain": [
              "25"
            ]
          },
          "execution_count": 10,
          "metadata": {},
          "output_type": "execute_result"
        }
      ],
      "source": [
        "jeronimo.edad"
      ]
    },
    {
      "cell_type": "markdown",
      "metadata": {},
      "source": [
        "#### CONTRUCTOR"
      ]
    },
    {
      "cell_type": "code",
      "execution_count": 27,
      "metadata": {},
      "outputs": [],
      "source": [
        "class Animal():\n",
        "    def __init__(self, name,edad,variablex):\n",
        "        self.name = name\n",
        "        self.edad = edad\n",
        "        self.variablex= variablex\n",
        "    def sonido(self):\n",
        "        pass\n",
        "    def getName(self):\n",
        "        pass\n",
        "    def calculo(self):\n",
        "        print(\"estoy en la clase animal\")\n",
        "    def setName(self,name):\n",
        "        self.name = name\n",
        "        \n"
      ]
    },
    {
      "cell_type": "code",
      "execution_count": 28,
      "metadata": {},
      "outputs": [],
      "source": [
        "class Perro(Animal):\n",
        "    def __init__(self, name, edad):\n",
        "        super().__init__(name, edad,variablex=4)\n",
        "    def sonido_perro(self):\n",
        "        print(\"Guau\")\n",
        "    def getName(self):\n",
        "        print(f\"El nombre de mi perro es {self.name} {self.variablex}\")\n",
        "    \n",
        "\n",
        "class Gato(Perro):\n",
        "    def sonido(self):\n",
        "        print(\"Miau\")\n",
        "    def getName(self):\n",
        "        print(f\"estoy en la clase gato {self.name}\")\n"
      ]
    },
    {
      "cell_type": "code",
      "execution_count": 32,
      "metadata": {},
      "outputs": [
        {
          "name": "stdout",
          "output_type": "stream",
          "text": [
            "estoy en la clase gato mat\n"
          ]
        }
      ],
      "source": [
        "mat = Gato(\"mat\",12)\n",
        "\n",
        "mat.getName()"
      ]
    },
    {
      "cell_type": "code",
      "execution_count": 30,
      "metadata": {},
      "outputs": [
        {
          "name": "stdout",
          "output_type": "stream",
          "text": [
            "estoy en la clase animal\n"
          ]
        },
        {
          "data": {
            "text/plain": [
              "4"
            ]
          },
          "execution_count": 30,
          "metadata": {},
          "output_type": "execute_result"
        }
      ],
      "source": [
        "mat.calculo()\n",
        "mat.variablex"
      ]
    },
    {
      "cell_type": "code",
      "execution_count": null,
      "metadata": {},
      "outputs": [],
      "source": []
    },
    {
      "cell_type": "code",
      "execution_count": 51,
      "metadata": {},
      "outputs": [
        {
          "data": {
            "text/plain": [
              "'taylor'"
            ]
          },
          "execution_count": 51,
          "metadata": {},
          "output_type": "execute_result"
        }
      ],
      "source": [
        "taylor = Gato(\"taylor\",2)\n",
        "taylor.getName()"
      ]
    },
    {
      "cell_type": "code",
      "execution_count": 44,
      "metadata": {},
      "outputs": [],
      "source": [
        "horacio = Perro(\"horacio\",1)"
      ]
    },
    {
      "cell_type": "code",
      "execution_count": 45,
      "metadata": {},
      "outputs": [],
      "source": [
        "horacio.setName(\"Francisco\")"
      ]
    },
    {
      "cell_type": "code",
      "execution_count": 46,
      "metadata": {},
      "outputs": [
        {
          "data": {
            "text/plain": [
              "'Francisco'"
            ]
          },
          "execution_count": 46,
          "metadata": {},
          "output_type": "execute_result"
        }
      ],
      "source": [
        "horacio.getName()"
      ]
    },
    {
      "cell_type": "code",
      "execution_count": 31,
      "metadata": {},
      "outputs": [],
      "source": [
        "gato = Animal()\n",
        "gato.edad = 13"
      ]
    },
    {
      "cell_type": "code",
      "execution_count": 32,
      "metadata": {},
      "outputs": [
        {
          "data": {
            "text/plain": [
              "''"
            ]
          },
          "execution_count": 32,
          "metadata": {},
          "output_type": "execute_result"
        }
      ],
      "source": [
        "gato.name"
      ]
    },
    {
      "cell_type": "code",
      "execution_count": 33,
      "metadata": {},
      "outputs": [
        {
          "name": "stdout",
          "output_type": "stream",
          "text": [
            "sonido de animal\n"
          ]
        }
      ],
      "source": [
        "gato.sonido()"
      ]
    },
    {
      "cell_type": "code",
      "execution_count": 15,
      "metadata": {},
      "outputs": [],
      "source": [
        "cocodrilo = Animal(\"c\",20)"
      ]
    },
    {
      "cell_type": "code",
      "execution_count": 16,
      "metadata": {},
      "outputs": [
        {
          "data": {
            "text/plain": [
              "20"
            ]
          },
          "execution_count": 16,
          "metadata": {},
          "output_type": "execute_result"
        }
      ],
      "source": [
        "cocodrilo.edad"
      ]
    },
    {
      "cell_type": "code",
      "execution_count": 3,
      "metadata": {},
      "outputs": [],
      "source": [
        "mascota = Animal(\"horacio\",13)"
      ]
    },
    {
      "cell_type": "code",
      "execution_count": 8,
      "metadata": {},
      "outputs": [
        {
          "data": {
            "text/plain": [
              "13"
            ]
          },
          "execution_count": 8,
          "metadata": {},
          "output_type": "execute_result"
        }
      ],
      "source": [
        "mascota.name\n",
        "mascota.edad"
      ]
    },
    {
      "cell_type": "markdown",
      "metadata": {},
      "source": [
        "> __init__  ? un constructor me sirve para inicializar variables ** ? atributos"
      ]
    },
    {
      "cell_type": "code",
      "execution_count": 34,
      "metadata": {},
      "outputs": [],
      "source": [
        "class Vehiculo:\n",
        "    def __init__(self, marca,km,h):\n",
        "        self.marca = marca\n",
        "        self.km=km\n",
        "        self.h=h\n",
        "    def kmh(self):\n",
        "        return self.km * self.h\n",
        "    "
      ]
    },
    {
      "cell_type": "code",
      "execution_count": 38,
      "metadata": {},
      "outputs": [],
      "source": [
        "class Moto(Vehiculo):\n",
        "    def __init__(self, casco):\n",
        "        super().__init__(marca=4,km=5,h=2)\n",
        "        self.casco = casco\n",
        "    \n",
        "    def referencia(self):\n",
        "        print(f\"{self.marca} {self.km}\")\n"
      ]
    },
    {
      "cell_type": "code",
      "execution_count": 39,
      "metadata": {},
      "outputs": [
        {
          "name": "stdout",
          "output_type": "stream",
          "text": [
            "4 5\n"
          ]
        }
      ],
      "source": [
        "suzuki = Moto(True)\n",
        "suzuki.referencia()"
      ]
    },
    {
      "cell_type": "markdown",
      "metadata": {},
      "source": [
        "#### POLIMORFISMO"
      ]
    },
    {
      "cell_type": "code",
      "execution_count": 63,
      "metadata": {},
      "outputs": [],
      "source": [
        "class Animal:\n",
        "    def hacer_sonido(self):\n",
        "        print(\"sonido animal sin definir\")\n",
        "\n",
        "class Perro(Animal):\n",
        "    def hacer_sonido(self):\n",
        "        return \"El perro ladra\"\n",
        "\n",
        "class Gato(Animal):\n",
        "    def __init__(self):\n",
        "        self.raza=\"\"\n",
        "        \n",
        "    def hacer_sonido_x(self):\n",
        "        return f\"El gato meow! {self.raza}\"\n",
        "    def n_patas(self):\n",
        "        print(\"hola\")\n",
        "\n",
        "\n"
      ]
    },
    {
      "cell_type": "code",
      "execution_count": 48,
      "metadata": {},
      "outputs": [],
      "source": [
        "def emitir_sonido(animal):\n",
        "    return animal.hacer_sonido()"
      ]
    },
    {
      "cell_type": "code",
      "execution_count": 61,
      "metadata": {},
      "outputs": [
        {
          "name": "stdout",
          "output_type": "stream",
          "text": [
            "sonido animal sin definir\n"
          ]
        }
      ],
      "source": [
        "horacio = Perro()\n",
        "mat = Gato()\n",
        "\n",
        "\n",
        "emitir_sonido(mat)"
      ]
    },
    {
      "cell_type": "code",
      "execution_count": 43,
      "metadata": {},
      "outputs": [
        {
          "data": {
            "text/plain": [
              "'El perro ladra'"
            ]
          },
          "execution_count": 43,
          "metadata": {},
          "output_type": "execute_result"
        }
      ],
      "source": [
        "emitir_sonido(horacio)"
      ]
    },
    {
      "cell_type": "markdown",
      "metadata": {},
      "source": [
        "#### ENCAPSULACIÓN"
      ]
    },
    {
      "cell_type": "code",
      "execution_count": 74,
      "metadata": {},
      "outputs": [],
      "source": [
        "class Persona:\n",
        "    def __init__(self, nombre):\n",
        "        self.__nombre = nombre\n",
        "\n",
        "    def IMC(self,peso,altura):\n",
        "        return peso/altura**2\n",
        "    \n",
        "    def getNombre(self):\n",
        "        return self.__nombre\n",
        "    def __getEdad(self):\n",
        "        print(\"Estoy en encapsulamiento\")\n"
      ]
    },
    {
      "cell_type": "code",
      "execution_count": null,
      "metadata": {},
      "outputs": [],
      "source": []
    },
    {
      "cell_type": "code",
      "execution_count": 75,
      "metadata": {},
      "outputs": [
        {
          "data": {
            "text/plain": [
              "'juan'"
            ]
          },
          "execution_count": 75,
          "metadata": {},
          "output_type": "execute_result"
        }
      ],
      "source": [
        "juan = Persona(\"juan\")\n",
        "juan.getNombre()"
      ]
    },
    {
      "cell_type": "code",
      "execution_count": 77,
      "metadata": {},
      "outputs": [
        {
          "ename": "AttributeError",
          "evalue": "'Persona' object has no attribute '__getEdad'",
          "output_type": "error",
          "traceback": [
            "\u001b[1;31m---------------------------------------------------------------------------\u001b[0m",
            "\u001b[1;31mAttributeError\u001b[0m                            Traceback (most recent call last)",
            "\u001b[1;32mc:\\Users\\crist\\Desktop\\NNsClassFiles\\NNsClass\\Clase-10\\clase10.ipynb Cell 50\u001b[0m line \u001b[0;36m1\n\u001b[1;32m----> <a href='vscode-notebook-cell:/c%3A/Users/crist/Desktop/NNsClassFiles/NNsClass/Clase-10/clase10.ipynb#Y112sZmlsZQ%3D%3D?line=0'>1</a>\u001b[0m juan\u001b[39m.\u001b[39;49m__getEdad()\n",
            "\u001b[1;31mAttributeError\u001b[0m: 'Persona' object has no attribute '__getEdad'"
          ]
        }
      ],
      "source": [
        "juan.__getEdad()"
      ]
    },
    {
      "cell_type": "code",
      "execution_count": 79,
      "metadata": {},
      "outputs": [],
      "source": [
        "import numpy as np"
      ]
    },
    {
      "cell_type": "code",
      "execution_count": null,
      "metadata": {},
      "outputs": [],
      "source": []
    },
    {
      "cell_type": "code",
      "execution_count": 78,
      "metadata": {},
      "outputs": [
        {
          "name": "stdout",
          "output_type": "stream",
          "text": [
            "Estoy en encapsulamiento\n"
          ]
        }
      ],
      "source": [
        "juan._Persona__getEdad()"
      ]
    },
    {
      "cell_type": "markdown",
      "metadata": {},
      "source": [
        "#### AUDIO"
      ]
    },
    {
      "cell_type": "markdown",
      "metadata": {},
      "source": []
    },
    {
      "cell_type": "markdown",
      "metadata": {},
      "source": []
    },
    {
      "cell_type": "code",
      "execution_count": 81,
      "metadata": {},
      "outputs": [],
      "source": [
        "from scipy.io.wavfile import read,write\n",
        "import matplotlib.pyplot as plt\n"
      ]
    },
    {
      "cell_type": "code",
      "execution_count": 82,
      "metadata": {},
      "outputs": [],
      "source": [
        "link = \"./dataset/10071.wav\""
      ]
    },
    {
      "cell_type": "code",
      "execution_count": 83,
      "metadata": {},
      "outputs": [],
      "source": [
        "fs,senal= read(link)"
      ]
    },
    {
      "cell_type": "code",
      "execution_count": 86,
      "metadata": {},
      "outputs": [
        {
          "data": {
            "text/plain": [
              "22050"
            ]
          },
          "execution_count": 86,
          "metadata": {},
          "output_type": "execute_result"
        }
      ],
      "source": [
        "fs   #frecuencia muestreo"
      ]
    },
    {
      "cell_type": "code",
      "execution_count": 87,
      "metadata": {},
      "outputs": [
        {
          "data": {
            "text/plain": [
              "array([    0,     0,     0, ...,  2119,  2513, -1212], dtype=int16)"
            ]
          },
          "execution_count": 87,
          "metadata": {},
          "output_type": "execute_result"
        }
      ],
      "source": [
        "senal #senal de audio"
      ]
    },
    {
      "cell_type": "code",
      "execution_count": 94,
      "metadata": {},
      "outputs": [],
      "source": [
        "tiempox=np.arange(0,len(senal))"
      ]
    },
    {
      "cell_type": "code",
      "execution_count": 91,
      "metadata": {},
      "outputs": [],
      "source": [
        "t = np.arange(0,float(len(senal))/fs,1.0/fs) #vector de tiempo"
      ]
    },
    {
      "cell_type": "code",
      "execution_count": 95,
      "metadata": {},
      "outputs": [
        {
          "data": {
            "text/plain": [
              "[<matplotlib.lines.Line2D at 0x28f22187090>]"
            ]
          },
          "execution_count": 95,
          "metadata": {},
          "output_type": "execute_result"
        },
        {
          "data": {
            "image/png": "[encoded data removed]",
            "text/plain": [
              "<Figure size 640x480 with 1 Axes>"
            ]
          },
          "metadata": {},
          "output_type": "display_data"
        }
      ],
      "source": [
        "plt.plot(tiempox,senal)"
      ]
    },
    {
      "cell_type": "code",
      "execution_count": null,
      "metadata": {},
      "outputs": [],
      "source": []
    }
  ],
  "metadata": {
    "accelerator": "GPU",
    "colab": {
      "provenance": []
    },
    "kernelspec": {
      "display_name": "Python 3 (ipykernel)",
      "language": "python",
      "name": "python3"
    },
    "language_info": {
      "codemirror_mode": {
        "name": "ipython",
        "version": 3
      },
      "file_extension": ".py",
      "mimetype": "text/x-python",
      "name": "python",
      "nbconvert_exporter": "python",
      "pygments_lexer": "ipython3",
      "version": "3.11.2"
    }
  },
  "nbformat": 4,
  "nbformat_minor": 0
}
