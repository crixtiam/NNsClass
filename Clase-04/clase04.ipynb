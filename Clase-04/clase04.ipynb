{
  "cells": [
    {
      "cell_type": "markdown",
      "metadata": {
        "id": "8Eqn3RtteZei"
      },
      "source": [
        "<div align=\"left\">\n",
        "<p><img alt=\"Sapiencia\" height=\"140px\" src=\"https://ubicua.ingeniaudea.co/pluginfile.php/32974/coursecat/description/RF_RedesNeuronales.png\" align=\"left\" hspace=\"10px\" vspace=\"0px\"></p></div>\n",
        "<div align=\"left\"></div>\n",
        "<div>\n",
        "\n",
        "<br></br>\n",
        "\n",
        "<div align=\"left\">\n",
        "<br></br>\n",
        "<br></br>\n",
        "\n",
        "\n",
        "\n",
        "<hr size=10 noshade color=\"#663398\">\n",
        "</p>\n",
        "<p>\n",
        "<img alt=\"CC\" height=\"70px\" src=\"https://creativecommons.org/images/deed/cc_blue_x2.png\" align=\"left\" hspace=\"0px\" vspace=\"0px\">\n",
        "<img alt=\"Attribution\" height=\"70px\" src=\"https://creativecommons.org/images/deed/attribution_icon_blue_x2.png\" align=\"left\" hspace=\"0px\" vspace=\"0px\">\n",
        "<img alt=\"NC\" height=\"70px\" src=\"https://creativecommons.org/images/deed/nc_blue_x2.png\" align=\"left\" hspace=\"0px\" vspace=\"0px\">\n",
        "<img alt=\"SA\" height=\"70px\" src=\"https://creativecommons.org/images/deed/sa_blue_x2.png\" align=\"left\" hspace=\"0px\" vspace=\"0px\">\n",
        "</p>\n",
        "\n",
        "<div align=\"right\">\n",
        "<h1> <b> Por: Cristiam Loaiza </b> </h1>\n",
        "<h2> Ingeniero de datos </h2>\n",
        "<a href=\"mailto:cristiam.loaiza@udea.edu.co\"> ✉ Cristiam Loaiza</a>\n",
        "</div>\n",
        "\n",
        "<br>\n",
        "\n",
        "**El presente material hace parte de la ruta de formación del talento especializado de SAPIENCIA**\n",
        "\n",
        "**Los documentos que utilizaremos en la presente y proximas clases son una mezcla del trabajo de muchos profesores y académicos.**\n",
        "\n",
        "**En caso de utilizar el presente contenido favor citarlo y brindar los créditos respectivos.**\n"
      ]
    },
    {
      "cell_type": "markdown",
      "metadata": {
        "id": "KvGkmbJKmJgO"
      },
      "source": [
        "<p><a name=\"contents\"></a></p>\n",
        "\n",
        "# Contenido\n",
        "\n",
        "- <a href=\"#Applications\">1. Aplicaciones de AI</a><br>\n",
        "- <a href=\"#tec\">2. Tipos de AI</a><br>\n",
        "- <a href=\"#trendsAndMarkets\">3. Trends and Markets</a><br>\n"
      ]
    },
    {
      "cell_type": "markdown",
      "metadata": {
        "id": "fwCSPQiBuLQH"
      },
      "source": [
        "<p><a name=\"colabIntro\"></a></p>\n",
        "\n",
        "# 1) Aplicaciones de AI\n",
        "\n",
        "[[Contenidos]](#contents)\n",
        "\n",
        "- En la era de la tecnología moderna abundan los datos estructurados y no estructurados.\n",
        "\n",
        "- El aprendizaje automático surgió a finales del siglo XX como un subcampo de la inteligencia artificial (IA) relacionado con algoritmos de autoaprendizaje que extraen y predicen conocimientos a partir de datos.\n",
        "\n",
        "- Los humanos analizan manualmente grandes cantidades de datos para inducir reglas y elaborar modelos.\n",
        "\n",
        "- El aprendizaje automático puede mejorar gradualmente los modelos predictivos y el rendimiento de la toma de decisiones basada en datos extrayendo conocimiento de los datos de forma más eficiente.\n",
        "\n"
      ]
    },
    {
      "cell_type": "markdown",
      "metadata": {},
      "source": [
        "\n",
        "<div align = \"center\">\n",
        "<img src=\"../img/AIPastYears.png\" width=\"800px\" height=\"auto\"/>\n",
        "</div>"
      ]
    },
    {
      "cell_type": "markdown",
      "metadata": {},
      "source": [
        "<p><a name=\"functionActivation\"></a></p>\n",
        "\n",
        "### 1.1. Conceptos claves.\n",
        "[[Contenidos]](#contents)\n"
      ]
    },
    {
      "cell_type": "markdown",
      "metadata": {},
      "source": [
        "\n",
        "* **Machine Learning:** El aprendizaje automático (Machine learning) es un campo de la inteligencia artificial y el estudio de algoritmos informáticos que mejoran automáticamente a través de ejemplos y experiencias.<br>\n",
        "\"Un campo de investigación que desarrolla algoritmos que permiten a las máquinas aprender de los datos y ejecutar acciones que no están explícitamente especificadas por código\" - Arthur Samuel, 1959<br>\n",
        "\"Se dice que un programa de ordenador aprende de la experiencia E con respecto a alguna clase de tareas T y medida de rendimiento P si su rendimiento en tareas en T, medido por P, mejoró con la experiencia E\". - Tom Mitchell, 1977"
      ]
    },
    {
      "cell_type": "markdown",
      "metadata": {},
      "source": [
        "<div align =\"center\">\n",
        "<img src=\"../img/ML.png\" width =\"50%\" height=\"50%\">\n",
        "</div>"
      ]
    },
    {
      "cell_type": "markdown",
      "metadata": {},
      "source": [
        "* **Disciplinas:**\n",
        "\n",
        "<div align = \"center\">\n",
        "<img src=\"../img/DisciplinasML.png\" width=\"50%\" height=\"50%\"/>"
      ]
    },
    {
      "cell_type": "markdown",
      "metadata": {},
      "source": [
        "* **ML vs Estadistica:**\n",
        "<br>\n",
        "**La estadística** se considera tradicionalmente el fundamento teórico que proporciona un método científico y sistemático para convertir los datos en información. Las áreas en las que se hace especial hincapié en la estadística son **la inferencia y la verificación**. Se han establecido diversas metodologías y teorías para explicar en qué medida los datos dados se ajustan a la hipótesis y la teoría del investigador (o con qué precisión los valores derivados de las observaciones estiman los parámetros reales de la población).<br>\n",
        "Mientras tanto, **el aprendizaje automático (Machine learning)** se utiliza principalmente para resolver tareas que son difíciles de diseñar o programar algoritmos explícitos. La mayoría de los algoritmos de aprendizaje automático se utilizan en primer lugar para **cuantificar relaciones complejas mediante la identificación de la característica de los mecanismos potenciales generados por los datos** y, paso siguiente, para hacer predicciones sobre nuevos datos utilizando este patrón identificado.  <br>\n",
        "A primera vista, los enfoques de la estadística y el aprendizaje automático pueden parecer totalmente opuestos. Pero, salvo en algunos aspectos, las metodologías que constituyen la base de cada disciplina son muy similares. De hecho, puede decirse que muchas metodologías del **aprendizaje automático se basan en el aprendizaje estadístico a partir de la estadística.**"
      ]
    },
    {
      "cell_type": "markdown",
      "metadata": {},
      "source": [
        "<div align=\"center\">\n",
        "    <img src=\"../img/MLvsStatistics.png\" alt=\"ML vs Statistics\"  width=\"50%\" height=\"50%\"/>\n",
        "</div>"
      ]
    },
    {
      "cell_type": "markdown",
      "metadata": {},
      "source": [
        "* **ML vs Data Mining:**"
      ]
    },
    {
      "cell_type": "markdown",
      "metadata": {},
      "source": [
        "**¿Qué es la minería de datos?** <br>\n",
        "Se refiere a un proceso de extracción de información útil [pepitas de oro] de un gran almacén de datos [pila de piedras].\n",
        "Se trata de una serie de procesos que ayudan a las empresas a tomar decisiones para garantizar su competitividad. Estos procesos implican encontrar y modelar relaciones, patrones y reglas entre los datos existentes en grandes cantidades de datos.<br>\n",
        "**El aprendizaje automático también está profundamente relacionado con la minería de datos porque extrae de los datos reglas útiles, expresiones de conocimiento o criterios de juicio.**<br>\n",
        "La minería de datos es un proceso que consiste en descubrir de forma sistemática y automática reglas o patrones significativos dentro de datos almacenados a gran escala e intelectualizarlos. **El aprendizaje automático es algo diferente, ya que es un proceso en el que los programas informáticos aprenden, hacen predicciones e investigan y construyen algoritmos para dicho proceso.**"
      ]
    },
    {
      "cell_type": "markdown",
      "metadata": {},
      "source": [
        "<div align=\"center\">\n",
        "   <img src=\"../img/dataMining.png\" width=60% >\n",
        "</div>"
      ]
    },
    {
      "cell_type": "markdown",
      "metadata": {},
      "source": [
        "* **Data Analysis vs Data Mining:**"
      ]
    },
    {
      "cell_type": "markdown",
      "metadata": {},
      "source": [
        "**Análisis estadístico tradicional**\n",
        "Con un grupo objetivo, el análisis se realiza basándose en diferentes supuestos sobre la distribución o el modelo de una población.<br>\n",
        "→ Proceso de inferir la totalidad de los parámetros de una población mediante la observación de una muestra. <br>\n",
        "**Data Mining (Extracción de datos)**\n",
        "No hay requisitos previos para la distribución o el modelo que inevitablemente interviene en la encuesta por muestreo o el experimento.<br>\n",
        "→ Proceso de extracción de la información o los conocimientos necesarios utilizando la totalidad de los datos de una población.\n",
        "La minería de datos requiere una gran cantidad de datos."
      ]
    },
    {
      "cell_type": "markdown",
      "metadata": {},
      "source": [
        "<p><a name=\"redesIntro\"></a></p>\n",
        "\n",
        "# 2) Machine Learning vs Deep Learning\n",
        "\n",
        "[[Contenidos]](#contents)"
      ]
    },
    {
      "cell_type": "markdown",
      "metadata": {},
      "source": [
        "<div align=\"center\">\n",
        "<img src=\"../img/MachineLearningWorkflow.png\" width=68% height=68%//>\n",
        "</div><br/>"
      ]
    },
    {
      "cell_type": "markdown",
      "metadata": {},
      "source": [
        "<div align =\"center\">\n",
        "<img src=\"../img/DeepLearningWorkflow.png\" width=68% height=68%>\n",
        "</div>"
      ]
    },
    {
      "cell_type": "markdown",
      "metadata": {},
      "source": [
        "<p><a name=\"redesIntro\"></a></p>\n",
        "\n",
        "# 3) Tipos de Inteligencia Artificial\n",
        "\n",
        "[[Contenidos]](#contents)"
      ]
    },
    {
      "cell_type": "markdown",
      "metadata": {},
      "source": [
        "<div align = \"center\">\n",
        "    <img src=\"../img/ANIAGI.png\" width=\"80%\" height = \"80%\" />\n",
        "</div>"
      ]
    },
    {
      "cell_type": "markdown",
      "metadata": {},
      "source": [
        "<p><a name=\"neurona\"></a></p>\n",
        "\n",
        "### 2.1. Clasificación ML and AI\n",
        "\n",
        "[[Contenidos]](#contents)"
      ]
    },
    {
      "cell_type": "markdown",
      "metadata": {},
      "source": [
        "<div align=\"center\">\n",
        "<img src=\"../img/MLAIClassification.png\" widht = \"400px\" height = \"400px\" />\n",
        "<p>Img 3. ML and AI Classification.</p>\n",
        "</div>"
      ]
    },
    {
      "cell_type": "markdown",
      "metadata": {},
      "source": [
        "---"
      ]
    },
    {
      "cell_type": "markdown",
      "metadata": {},
      "source": [
        "----"
      ]
    },
    {
      "cell_type": "markdown",
      "metadata": {},
      "source": [
        "<p><a name=\"functionActivation\"></a></p>\n",
        "\n",
        "### 2.2. Ejemplo de una red neuronal con python\n",
        "\n",
        "[[Contenidos]](#contents)"
      ]
    },
    {
      "cell_type": "markdown",
      "metadata": {},
      "source": [
        "Nuestro primer ejemplo mostrará la diferencia entre la programación regular y el aprendizaje automático. <br>\n",
        "En la programación regular programamos las reglas y lógica necesaria para transformar las entradas en resultados.\n",
        "En la programación automatica conocemos las entradas y los resultados pero no el algoritmo para hacer la conversión.\n",
        "\n",
        "##### Formula de farenheit a celsius\n",
        "\n",
        "$ fahrenheit = celsius * 1.8 + 32 $"
      ]
    },
    {
      "cell_type": "code",
      "execution_count": 5,
      "metadata": {},
      "outputs": [
        {
          "name": "stdout",
          "output_type": "stream",
          "text": [
            "los grados son 90°C al transformarlos en fahrenheit: 194.0\n"
          ]
        }
      ],
      "source": [
        "celsius = 90\n",
        "fahrenheit = celsius * 1.8 + 32\n",
        "print(f\"los grados son {celsius}°C al transformarlos en fahrenheit: {fahrenheit}\")"
      ]
    },
    {
      "cell_type": "code",
      "execution_count": 6,
      "metadata": {},
      "outputs": [],
      "source": [
        "import tensorflow as tf\n",
        "import numpy as np"
      ]
    },
    {
      "cell_type": "code",
      "execution_count": 2,
      "metadata": {},
      "outputs": [],
      "source": [
        "input_c = np.array([90,30,0,8,15,22,38],dtype = float)\n",
        "output_f = np.array([1,0.5,32,46.4,59,72,100],dtype=float)"
      ]
    },
    {
      "cell_type": "markdown",
      "metadata": {},
      "source": [
        "- Una capa densa es aquella que cada neurona conecta tiene conexión con cada neurona de la otra capa.\n",
        "- La red neuronal más básica es la secuencial."
      ]
    },
    {
      "cell_type": "code",
      "execution_count": 7,
      "metadata": {},
      "outputs": [],
      "source": [
        "#capa = tf.keras.layers.Dense(units=1,input_shape=[1])\n",
        "#modelo = tf.keras.Sequential([capa])\n",
        "\n",
        "oculta_1 = tf.keras.layers.Dense(units=3,input_shape=[1])\n",
        "oculta_2 = tf.keras.layers.Dense(units=3)\n",
        "output_1 = tf.keras.layers.Dense(units=1)\n",
        "modelo = tf.keras.Sequential([oculta_1,oculta_2,output_1])"
      ]
    },
    {
      "cell_type": "markdown",
      "metadata": {},
      "source": [
        "- El optimizador adam le permite a la red neuronal como ajustar los pesos de manera eficiente para que aprenda y la tasa de aprendizaje (0.1) para que pueda aprender y ajustar de 0.1\n",
        "- Error cuadratico medio considera que una cantidad de errores grandes es peor que una gran cantidad de errores pequeños.\n"
      ]
    },
    {
      "cell_type": "code",
      "execution_count": 8,
      "metadata": {},
      "outputs": [],
      "source": [
        "modelo.compile(\n",
        "    optimizer = tf.keras.optimizers.Adam(0.1),\n",
        "    loss = \"mean_squared_error\"\n",
        ")"
      ]
    },
    {
      "cell_type": "markdown",
      "metadata": {},
      "source": [
        "- Epoch son cuantas vueltas quiero que de la red neuronal para el entrenamiento.\n",
        "- Función de perdida me dice que tan mal estan los resultados de la red en cada vuelta que dio."
      ]
    },
    {
      "cell_type": "code",
      "execution_count": 9,
      "metadata": {},
      "outputs": [
        {
          "name": "stdout",
          "output_type": "stream",
          "text": [
            "modelo red neuronal\n"
          ]
        }
      ],
      "source": [
        "print('modelo red neuronal')\n",
        "hist = modelo.fit(input_c,output_f,epochs=1000,verbose= False)"
      ]
    },
    {
      "cell_type": "code",
      "execution_count": 10,
      "metadata": {},
      "outputs": [
        {
          "data": {
            "text/plain": [
              "[<matplotlib.lines.Line2D at 0x1bbd240e910>]"
            ]
          },
          "execution_count": 10,
          "metadata": {},
          "output_type": "execute_result"
        },
        {
          "data": {
            "image/png": "[encoded data removed]",
            "text/plain": [
              "<Figure size 640x480 with 1 Axes>"
            ]
          },
          "metadata": {},
          "output_type": "display_data"
        }
      ],
      "source": [
        "import matplotlib.pyplot as plt\n",
        "\n",
        "plt.xlabel(\"número epoca\")\n",
        "plt.ylabel(\"Magnitud de perdida\")\n",
        "plt.plot(hist.history[\"loss\"])"
      ]
    },
    {
      "cell_type": "code",
      "execution_count": 11,
      "metadata": {},
      "outputs": [
        {
          "name": "stdout",
          "output_type": "stream",
          "text": [
            "1/1 [==============================] - 0s 175ms/step\n",
            "valor de 90C es  [[193.85489]]\n"
          ]
        }
      ],
      "source": [
        "print(f\"valor de 90C es  {modelo.predict([90])}\")"
      ]
    },
    {
      "cell_type": "code",
      "execution_count": 12,
      "metadata": {},
      "outputs": [],
      "source": [
        "#print(capa.get_weights())"
      ]
    },
    {
      "cell_type": "code",
      "execution_count": 13,
      "metadata": {},
      "outputs": [
        {
          "name": "stdout",
          "output_type": "stream",
          "text": [
            "[array([[ 0.46103415,  0.10446218, -0.5643447 ]], dtype=float32), array([ 3.4904313, -3.1547387, -3.6393178], dtype=float32)]\n"
          ]
        }
      ],
      "source": [
        "print(oculta_1.get_weights())"
      ]
    },
    {
      "cell_type": "code",
      "execution_count": 14,
      "metadata": {},
      "outputs": [
        {
          "name": "stdout",
          "output_type": "stream",
          "text": [
            "[array([[ 0.82058847, -0.30391613, -0.7659331 ],\n",
            "       [-1.318429  , -0.25788942,  0.09481297],\n",
            "       [-1.3816214 ,  0.11327376,  0.25549585]], dtype=float32), array([ 4.008758 , -3.6372733, -1.53142  ], dtype=float32)]\n"
          ]
        }
      ],
      "source": [
        "print(oculta_2.get_weights())"
      ]
    },
    {
      "cell_type": "code",
      "execution_count": 15,
      "metadata": {},
      "outputs": [
        {
          "name": "stdout",
          "output_type": "stream",
          "text": [
            "[array([[ 1.5798664 ],\n",
            "       [-0.52908385],\n",
            "       [-0.1316077 ]], dtype=float32), array([3.6462336], dtype=float32)]\n"
          ]
        }
      ],
      "source": [
        "print(output_1.get_weights())"
      ]
    }
  ],
  "metadata": {
    "accelerator": "GPU",
    "colab": {
      "provenance": []
    },
    "kernelspec": {
      "display_name": "Python 3 (ipykernel)",
      "language": "python",
      "name": "python3"
    },
    "language_info": {
      "codemirror_mode": {
        "name": "ipython",
        "version": 3
      },
      "file_extension": ".py",
      "mimetype": "text/x-python",
      "name": "python",
      "nbconvert_exporter": "python",
      "pygments_lexer": "ipython3",
      "version": "3.11.2"
    }
  },
  "nbformat": 4,
  "nbformat_minor": 0
}
