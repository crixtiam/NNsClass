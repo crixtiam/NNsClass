{
  "cells": [
    {
      "cell_type": "markdown",
      "metadata": {
        "id": "8Eqn3RtteZei"
      },
      "source": [
        "<div align=\"left\">\n",
        "<p><img alt=\"Sapiencia\" height=\"140px\" src=\"https://ubicua.ingeniaudea.co/pluginfile.php/32974/coursecat/description/RF_RedesNeuronales.png\" align=\"left\" hspace=\"10px\" vspace=\"0px\"></p></div>\n",
        "<div align=\"left\"></div>\n",
        "<div>\n",
        "\n",
        "<br></br>\n",
        "\n",
        "<div align=\"left\">\n",
        "<br></br>\n",
        "<br></br>\n",
        "\n",
        "\n",
        "\n",
        "<hr size=10 noshade color=\"#663398\">\n",
        "</p>\n",
        "<p>\n",
        "<img alt=\"CC\" height=\"70px\" src=\"https://creativecommons.org/images/deed/cc_blue_x2.png\" align=\"left\" hspace=\"0px\" vspace=\"0px\">\n",
        "<img alt=\"Attribution\" height=\"70px\" src=\"https://creativecommons.org/images/deed/attribution_icon_blue_x2.png\" align=\"left\" hspace=\"0px\" vspace=\"0px\">\n",
        "<img alt=\"NC\" height=\"70px\" src=\"https://creativecommons.org/images/deed/nc_blue_x2.png\" align=\"left\" hspace=\"0px\" vspace=\"0px\">\n",
        "<img alt=\"SA\" height=\"70px\" src=\"https://creativecommons.org/images/deed/sa_blue_x2.png\" align=\"left\" hspace=\"0px\" vspace=\"0px\">\n",
        "</p>\n",
        "\n",
        "<div align=\"right\">\n",
        "<h1> <b> Por: Cristiam Loaiza </b> </h1>\n",
        "<h2> Ingeniero de datos </h2>\n",
        "<a href=\"mailto:cristiam.loaiza@udea.edu.co\"> ✉ Cristiam Loaiza</a>\n",
        "</div>\n",
        "\n",
        "<br>\n",
        "\n",
        "**El presente material hace parte de la ruta de formación del talento especializado de SAPIENCIA**\n",
        "\n",
        "**Los documentos que utilizaremos en la presente y proximas clases son una mezcla del trabajo de muchos profesores y académicos.**\n",
        "\n",
        "**En caso de utilizar el presente contenido favor citarlo y brindar los créditos respectivos.**\n"
      ]
    },
    {
      "cell_type": "markdown",
      "metadata": {
        "id": "KvGkmbJKmJgO"
      },
      "source": [
        "<p><a name=\"contents\"></a></p>\n",
        "\n",
        "# Contenido\n",
        "\n",
        "- <a href=\"#colabIntro\">1. Introducción a ambientes virtuales</a><br>\n",
        "  - <a href=\"#instalacionVenv\">1.1. Instalación ambiente virtual</a><br>\n",
        "- <a href=\"#redesIntro\">2. Introducción redes neuronales</a><br>\n",
        "  - <a href=\"#neurona\">2.1. La neurona</a><br>\n",
        "  - <a href=\"#functionActivation\">2.2. Función de activación</a><br>\n",
        "  - <a href=\"#EjemploNNS\">2.2. Ejemplo de una red neuronal en python</a><br>\n",
        "\n",
        "\n",
        "\n"
      ]
    },
    {
      "cell_type": "markdown",
      "metadata": {
        "id": "fwCSPQiBuLQH"
      },
      "source": [
        "<p><a name=\"colabIntro\"></a></p>\n",
        "\n",
        "# 1) Introducción a ambientes virtuales\n",
        "\n",
        "[[Contenidos]](#contents)\n",
        "\n",
        "Un entorno virtual es una herramienta que se utiliza para crear entornos aislados. En python existe una libreria que facilita la creación de dichos entornos virtuales llamada Virtualenv.\n",
        "\n",
        "Virtualenv facilita mantener dependencias requeridas de un proyecto en lugares separados. Imaginemos que tenemos un proyecto con python 3.10 y dash 2.10, pero necesitamos crear un nuevo proyecto que requiere python 3.11 y dash 2.12. Utilizando virtualenv podremos trabajar de manera independiente en los dos proyectos sin ningún conflicto.\n",
        "\n",
        "En esta sección vamos a ver cómo crear un entorno virtual para poder trabajar con Python. Para ello, instalaremos primero la libreria virtualenv \n",
        "\n",
        "```pip install virtualenv```\n",
        "\n",
        "Referencia: https://pypi.org/project/virtualenv/\n",
        "\n"
      ]
    },
    {
      "cell_type": "markdown",
      "metadata": {},
      "source": [
        "<p><a name=\"colabIntro\"></a></p>\n",
        "\n",
        "### 1.1. Instalación ambiente virtual\n",
        "\n",
        "[[Contenidos]](#contents)\n",
        "\n",
        "Pasos para la creación de un ambiente virtual:\n",
        "* Crear una carpeta en una ubicación de preferencia (desktop,downloads,documents etc...) con el nombre del proyecto de python\n",
        "* Una vez creada la carpeta abrimos la consola de windows \"command promp\" o comúnmente llamada CMD y con el comando \n",
        "\n",
        "```cd nombre_proyecto```\n",
        "\n",
        "nos dirigimos a la carpeta creada anteriormente.\n",
        "\n",
        "* Una vez dentro de la carpeta crearemos el entorno virtual, con el siguiente comando en windows.\n",
        "\n",
        "```virtualenv venv```\n",
        "\n",
        "\n",
        "venv es como se llamará el entorno virtual. Se recomienda dejar este nombre por referencia o bien se puede cambiar.\n",
        "\n",
        "* Una vez creado el entorno virtual tendremos que activarlo.\n",
        "Para esto ejecutamos lo siguiente en terminal de windows:\n",
        "\n",
        "```venv\\Scripts\\activate ```\n",
        "\n",
        "y en linux o mac:\n",
        "\n",
        "```source venv/bin/activate ```\n",
        "\n",
        "Una vez activo podremos instalar Jupyter notebook con el siguiente comando en la consola de windows:\n",
        "\n",
        "```pip install jupyter notebook```\n",
        "\n",
        "Instalado Jupyter Notebook podremos activarlo solamente escribiendo en la consola de windows:\n",
        "\n",
        "```jupyter notebook```"
      ]
    },
    {
      "cell_type": "markdown",
      "metadata": {},
      "source": [
        "<p><a name=\"redesIntro\"></a></p>\n",
        "\n",
        "# 2) Introducción a redes neuronales\n",
        "\n",
        "[[Contenidos]](#contents)"
      ]
    },
    {
      "cell_type": "markdown",
      "metadata": {},
      "source": [
        "<p><a name=\"neurona\"></a></p>\n",
        "\n",
        "### 2.1. La neurona\n",
        "\n",
        "[[Contenidos]](#contents)"
      ]
    },
    {
      "cell_type": "markdown",
      "metadata": {},
      "source": [
        "La neurona es la unidad funcional y estructural del sistema nervioso. Recibe estímulos provenientes del medio ambiente, los convierte en impulsos nervisos y los transmite a otra neurona.\n",
        "\n",
        "Conclusión: Una neurona recibe, procesa y transmite información a través de señales químicas y elétricas.\n",
        "\n",
        "\n",
        "\n",
        "Fuente :<a href=\"https://es.wikipedia.org/wiki/Neurona#:~:text=La%20neurona%20es%20la%20unidad%20estructural%20y%20funcional,c%C3%A9lula%20muscular%20o%20glandular%20donde%20producir%C3%A1n%20una%20respuesta.\" > Neurona</a>"
      ]
    },
    {
      "cell_type": "markdown",
      "metadata": {},
      "source": [
        "<div align = \"center\">\n",
        "<img src=\"./img/neuron.png\" />\n",
        "<p> Img 1. Partes de una neurona de un ser viviente.</p>\n",
        "</div>"
      ]
    },
    {
      "cell_type": "markdown",
      "metadata": {},
      "source": [
        "Partes importantes de la neurona para AI:\n",
        " - Las dendritas: Son las encargadas de recibir las señales del núcleo de la neurona.\n",
        " - Núcleo : Transmiten señales a las dendritas.\n",
        " - Axon: Transmite las señales a otras neuronas.\n",
        " - Synapse: Permite la comunicación con otras neuronas."
      ]
    },
    {
      "cell_type": "markdown",
      "metadata": {},
      "source": [
        "¿ Cómo funciona una neurona en redes neuronales ?"
      ]
    },
    {
      "cell_type": "markdown",
      "metadata": {},
      "source": [
        "Las redes neuronales funcionan mediante entradas, pesos y funciones matemáticas las cuales determinan un resultado. En el siguiente ejemplo se determina que las entradas están propiamente dadas por las X y los pesos son W para el cual la salida seria dada por Y que representa una sumatoria."
      ]
    },
    {
      "cell_type": "markdown",
      "metadata": {},
      "source": [
        "<div align=\"center\">\n",
        "<img src=\"./img/singleNeuron.png\" width=\"400px\" heigh=\"400px\"/>\n",
        "<p>Img 2. Funcionamiento matematico interno de una neurona.</p>\n",
        "</div>"
      ]
    },
    {
      "cell_type": "markdown",
      "metadata": {},
      "source": [
        "Una neurona actual como un modelo de regresión lineal donde hay una tendencia y un sesgo. Es decir un módelo de red neuronal es lineal."
      ]
    },
    {
      "cell_type": "markdown",
      "metadata": {},
      "source": [
        "Una neurona se puede representar mediante el siguiente gráfico."
      ]
    },
    {
      "cell_type": "markdown",
      "metadata": {},
      "source": [
        "<div align=\"center\">\n",
        "<img src=\"./img/neuronLayers.png\" widht = \"400px\" height = \"400px\" />\n",
        "<p>Img 3. Composición matemática de una neurona.</p>\n",
        "</div>"
      ]
    },
    {
      "cell_type": "markdown",
      "metadata": {},
      "source": [
        "Realizando una analogia con la imagen de la neurona (img 1) podemos encontrar que la representación matematica y estadistica es similar a la neurona de un ser viviente.\n",
        "\n",
        "* Capa de entrada (input layer) = Serán las dendritas.\n",
        "* Synapse = Son los pesos o valores que determinan la importancia de la variable de entrada.\n",
        "* Neurona (Nodo) = Equivalente matematico que procesa la información y la envía a la capa de salida.\n",
        "* Capa de salida (output layer) = transmite la señal procesada a otras neuronas o sistemas."
      ]
    },
    {
      "cell_type": "markdown",
      "metadata": {},
      "source": [
        "#### Apuntes principales:\n",
        "- La capa de entrada contiene valores independientes de una sola observación, es decir, son valores únicos por cada muestra de datos. Como ejemplo pueden ser la edad, el monto de dinero de una persona en la cuenta bancaria, metodo de transporte etc.\n",
        "Estos valores al ser númericos o valores de texto se necesitan estandarizar. \n",
        "- ¿ Que es estandarizar datos ? : Estandarizar se refiere al proceso de transformación de los datos actuales (entradas) para permitir a la red neuronal digerir la información en un formato aceptable, es decir, si tenemos en nuestro formato de datos representaciones de genero como femenino o masculino, al ser solo dos posibles opciones se puede sugerir una transformación binaria de 1's y 0's. Con ello facilita a la red neuronal la clasificación y procesamiento.\n",
        "- ¿ Que es normalizar los datos ? : Normalizar es ajustar los valores de entrada en diferentes escalas respecto a una escala en común. Un ejemplo puede ser la normalización de una imagen.  Como bien se sabe una imagen es una matriz de valores representada por números de 0 a 255 y para normalizar una imagen y llevar dichos valores a una escala de 0 a 1 es necesario dividir por el valor máximo de la matriz que es el 255 con el fin de generar un estandar de proporciones y evitar los sesgos de las medidas.\n",
        "- La capa de salida (output layer) : \n",
        "es la última capa que nos permite obtener el resultado final, en este caso un valor que puede ser:\n",
        "   - Continuo (precios)\n",
        "   - Binario. (1's ó 0's)\n",
        "   - Categórico (información de tipo cualitativo).\n"
      ]
    },
    {
      "cell_type": "markdown",
      "metadata": {},
      "source": [
        "<p><a name=\"functionActivation\"></a></p>\n",
        "\n",
        "### 2.2. Funciones de activación\n",
        "\n",
        "[[Contenidos]](#contents)"
      ]
    },
    {
      "cell_type": "markdown",
      "metadata": {},
      "source": [
        "<p><a name=\"functionActivation\"></a></p>\n",
        "\n",
        "### 2.2. Ejemplo de una red neuronal con python\n",
        "\n",
        "[[Contenidos]](#contents)"
      ]
    },
    {
      "cell_type": "markdown",
      "metadata": {},
      "source": [
        "Nuestro primer ejemplo mostrará la diferencia entre la programación regular y el aprendizaje automático."
      ]
    },
    {
      "cell_type": "code",
      "execution_count": 1,
      "metadata": {},
      "outputs": [],
      "source": [
        "import tensorflow as tf\n",
        "import numpy as np"
      ]
    },
    {
      "cell_type": "code",
      "execution_count": 2,
      "metadata": {},
      "outputs": [],
      "source": [
        "input_c = np.array([-40,-10,0,8,15,22,38],dtype = float)\n",
        "output_f = np.array([-40,14,32,46.4,59,72,100],dtype=float)"
      ]
    },
    {
      "cell_type": "code",
      "execution_count": 4,
      "metadata": {},
      "outputs": [],
      "source": [
        "capa = tf.keras.layers.Dense(units=1,input_shape=[1])\n",
        "modelo = tf.keras.Sequential([capa])\n",
        "\n",
        "#oculta_1 = tf.keras.layers.Dense(units=3,input_shape=[1])\n",
        "#oculta_2 = tf.keras.layers.Dense(units=3)\n",
        "#output_1 = tf.keras.layers.Dense(units=1)\n",
        "#modelo = tf.keras.Sequential([oculta_1,oculta_2,output_1])"
      ]
    },
    {
      "cell_type": "code",
      "execution_count": 5,
      "metadata": {},
      "outputs": [],
      "source": [
        "modelo.compile(\n",
        "    optimizer = tf.keras.optimizers.Adam(0.1),\n",
        "    loss = \"mean_squared_error\"\n",
        ")"
      ]
    },
    {
      "cell_type": "code",
      "execution_count": 6,
      "metadata": {},
      "outputs": [
        {
          "name": "stdout",
          "output_type": "stream",
          "text": [
            "modelo red neuronal\n"
          ]
        }
      ],
      "source": [
        "print('modelo red neuronal')\n",
        "hist = modelo.fit(input_c,output_f,epochs=1000,verbose= False)"
      ]
    },
    {
      "cell_type": "code",
      "execution_count": 7,
      "metadata": {},
      "outputs": [
        {
          "data": {
            "text/plain": [
              "[<matplotlib.lines.Line2D at 0x1d75ba029d0>]"
            ]
          },
          "execution_count": 7,
          "metadata": {},
          "output_type": "execute_result"
        },
        {
          "data": {
            "image/png": "[encoded data removed]",
            "text/plain": [
              "<Figure size 640x480 with 1 Axes>"
            ]
          },
          "metadata": {},
          "output_type": "display_data"
        }
      ],
      "source": [
        "import matplotlib.pyplot as plt\n",
        "\n",
        "plt.xlabel(\"numero epoca\")\n",
        "plt.ylabel(\"Magnitud de perdida\")\n",
        "plt.plot(hist.history[\"loss\"])"
      ]
    },
    {
      "cell_type": "code",
      "execution_count": 8,
      "metadata": {},
      "outputs": [
        {
          "name": "stdout",
          "output_type": "stream",
          "text": [
            "1/1 [==============================] - 0s 156ms/step\n",
            "valor de 90C es  [[193.84537]]\n"
          ]
        }
      ],
      "source": [
        "print(f\"valor de 90C es  {modelo.predict([90])}\")"
      ]
    },
    {
      "cell_type": "code",
      "execution_count": 9,
      "metadata": {},
      "outputs": [
        {
          "name": "stdout",
          "output_type": "stream",
          "text": [
            "[array([[1.7986642]], dtype=float32), array([31.965593], dtype=float32)]\n"
          ]
        }
      ],
      "source": [
        "print(capa.get_weights())"
      ]
    },
    {
      "cell_type": "code",
      "execution_count": null,
      "metadata": {},
      "outputs": [],
      "source": [
        "print(oculta_1.get_weights())"
      ]
    },
    {
      "cell_type": "code",
      "execution_count": null,
      "metadata": {},
      "outputs": [],
      "source": [
        "print(oculta_2.get_weights())"
      ]
    },
    {
      "cell_type": "code",
      "execution_count": null,
      "metadata": {},
      "outputs": [],
      "source": [
        "print(output_1.get_weights())"
      ]
    }
  ],
  "metadata": {
    "accelerator": "GPU",
    "colab": {
      "provenance": []
    },
    "kernelspec": {
      "display_name": "Python 3 (ipykernel)",
      "language": "python",
      "name": "python3"
    },
    "language_info": {
      "codemirror_mode": {
        "name": "ipython",
        "version": 3
      },
      "file_extension": ".py",
      "mimetype": "text/x-python",
      "name": "python",
      "nbconvert_exporter": "python",
      "pygments_lexer": "ipython3",
      "version": "3.11.2"
    }
  },
  "nbformat": 4,
  "nbformat_minor": 0
}
