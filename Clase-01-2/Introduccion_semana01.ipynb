{
  "cells": [
    {
      "cell_type": "markdown",
      "metadata": {
        "id": "8Eqn3RtteZei"
      },
      "source": [
        "<div align=\"left\">\n",
        "<p><img alt=\"Sapiencia\" height=\"140px\" src=\"https://ubicua.ingeniaudea.co/pluginfile.php/32974/coursecat/description/RF_RedesNeuronales.png\" align=\"left\" hspace=\"10px\" vspace=\"0px\"></p></div>\n",
        "<div align=\"left\"></div>\n",
        "<div>\n",
        "\n",
        "<br></br>\n",
        "\n",
        "<div align=\"left\">\n",
        "<br></br>\n",
        "<br></br>\n",
        "\n",
        "\n",
        "\n",
        "<hr size=10 noshade color=\"#663398\">\n",
        "</p>\n",
        "<p>\n",
        "<img alt=\"CC\" height=\"70px\" src=\"https://creativecommons.org/images/deed/cc_blue_x2.png\" align=\"left\" hspace=\"0px\" vspace=\"0px\">\n",
        "<img alt=\"Attribution\" height=\"70px\" src=\"https://creativecommons.org/images/deed/attribution_icon_blue_x2.png\" align=\"left\" hspace=\"0px\" vspace=\"0px\">\n",
        "<img alt=\"NC\" height=\"70px\" src=\"https://creativecommons.org/images/deed/nc_blue_x2.png\" align=\"left\" hspace=\"0px\" vspace=\"0px\">\n",
        "<img alt=\"SA\" height=\"70px\" src=\"https://creativecommons.org/images/deed/sa_blue_x2.png\" align=\"left\" hspace=\"0px\" vspace=\"0px\">\n",
        "</p>\n",
        "\n",
        "<div align=\"right\">\n",
        "<h1> <b> Por: Cristiam Loaiza </b> </h1>\n",
        "<h2> Ingeniero de datos </h2>\n",
        "<a href=\"mailto:cristiam.loaiza@udea.edu.co\"> ✉ Cristiam Loaiza</a>\n",
        "</div>\n",
        "\n",
        "<br>\n",
        "\n",
        "**El presente material hace parte de la ruta de formación del talento especializado de SAPIENCIA**\n",
        "\n",
        "**Los documentos que utilizaremos en la presente y proximas clases son una mezcla del trabajo de muchos profesores y académicos.**\n",
        "\n",
        "**En caso de utilizar el presente contenido favor citarlo y brindar los créditos respectivos.**\n"
      ]
    },
    {
      "cell_type": "markdown",
      "metadata": {
        "id": "pvauUV6iVLjC"
      },
      "source": [
        "# Ejemplos"
      ]
    },
    {
      "cell_type": "markdown",
      "metadata": {
        "id": "xjmNJPwuU884"
      },
      "source": [
        "* Uso de Machine Learning para desarrollar chatbots que faciliten el proceso de comunicación entre las compañías y los usuarios: En Colombia, grandes compañías han implementado sus chatbot, tales como, Bancolombia con Tabot, Avianca con Carla y Sura con Clara.\n",
        "\n",
        "* Análisis de datos aplicado al deporte: Ahora los datos son de gran ayuda para los entrenadores en diferentes deportes, desde el futbol, donde los actuales campeones de la champions league, el Liverpool, son una muestra de ello\n",
        "* Uso de métodos de Inteligencia Artificial (AI) en imagenes aplicadas en medicina: El MIT desarrolló una herramienta para la detección temprana de cancer de mama.\n",
        "\n"
      ]
    },
    {
      "cell_type": "markdown",
      "metadata": {
        "id": "KvGkmbJKmJgO"
      },
      "source": [
        "<p><a name=\"contents\"></a></p>\n",
        "\n",
        "# Contenido\n",
        "\n",
        "- <a href=\"#colabIntro\">1. Introducción al Colaboratory de Google</a><br>\n",
        "- <a href=\"#pythonIntro\">2. Introducción a Python</a><br>\n",
        "\n"
      ]
    },
    {
      "cell_type": "markdown",
      "metadata": {
        "id": "fwCSPQiBuLQH"
      },
      "source": [
        "<p><a name=\"colabIntro\"></a></p>\n",
        "\n",
        "# 1) Introducción a Google Colaboratory\n",
        "\n",
        "[[Contenidos]](#contents)\n",
        "\n",
        "El presente documento es un  [Notebook de Jupyter](https://jupyter.org/), almacenado en el Colaboratory de Google. No es una página estática, se trata de un ambiente interactivo en el cual puede ejecutar scrips en Python, además de otros programas.\n",
        "\n",
        "Por ejemplo, a continuación se muestra una **celda de código** con un pequeño script de Python que calcula un value, lo almacena en una variable y lo imprime en pantalla:"
      ]
    },
    {
      "cell_type": "code",
      "execution_count": null,
      "metadata": {
        "colab": {
          "base_uri": "https://localhost:8080/"
        },
        "id": "xlIqRThkfinx",
        "outputId": "36de19c9-f38c-494c-bcf3-4cedb94029ce"
      },
      "outputs": [
        {
          "name": "stdout",
          "output_type": "stream",
          "text": [
            "31536000\n"
          ]
        }
      ],
      "source": [
        "# Calculo de número de segundos del año\n",
        "secs_per_year=365*24*3600\n",
        "\n",
        "print(secs_per_year)"
      ]
    },
    {
      "cell_type": "markdown",
      "metadata": {
        "id": "ast0vQyg1Jil"
      },
      "source": [
        "$\\frac{34}{x}$"
      ]
    },
    {
      "cell_type": "markdown",
      "metadata": {
        "id": "F5cfOYAGg9XF"
      },
      "source": [
        "Para ejecutar el anterior código, se debe seleccionar haciendo click en la celda, y se debe hacer click el botón \"play\" a la izquierda de la celda; también puede usar los atajos de teclado \"Shift/Ctrl+Enter\".\n",
        "\n",
        "Todas las variables son almacenadas de forma global, de tal manera que se puede usar y modificar en celdas diferentes. En los dos siguientes ejemplos se muestran modificaciones ejecutadas sobre la variable secs_per_year"
      ]
    },
    {
      "cell_type": "code",
      "execution_count": null,
      "metadata": {
        "colab": {
          "base_uri": "https://localhost:8080/"
        },
        "id": "3ZCDRslqkkev",
        "outputId": "10158b9f-d98a-4dbc-a87c-22f3a1708a46"
      },
      "outputs": [
        {
          "name": "stdout",
          "output_type": "stream",
          "text": [
            "Valor de la variable inicial 31536000\n",
            "Valor de la variable modificado 15768000.0\n"
          ]
        }
      ],
      "source": [
        "print(\"Valor de la variable inicial\",secs_per_year)\n",
        "\n",
        "#Modificación 1 de la variable sec_per_year\n",
        "\n",
        "secs_per_year=secs_per_year/2;\n",
        "\n",
        "print(\"Valor de la variable modificado\", secs_per_year)"
      ]
    },
    {
      "cell_type": "markdown",
      "metadata": {
        "id": "-0HPp6Cp2vTK"
      },
      "source": [
        "<h1>Hola<h1>\n",
        "<h2>Hola<h2>\n",
        "<h6>Hola<h6>\n",
        "\n",
        "\n",
        "<ul>\n",
        "<li>hola</li>\n",
        "</ul>"
      ]
    },
    {
      "cell_type": "markdown",
      "metadata": {
        "id": "yotKpVH2sWGL"
      },
      "source": [
        "## More Resources\n",
        "\n",
        "Learn how to make the most of Python, Jupyter, Colaboratory, and related tools with these resources:\n",
        "\n",
        "### Working with Notebooks in Colaboratory\n",
        "- [Overview of Colaboratory](/notebooks/basic_features_overview.ipynb)\n",
        "- [Guide to Markdown](/notebooks/markdown_guide.ipynb)\n",
        "- [Importing libraries and installing dependencies](/notebooks/snippets/importing_libraries.ipynb)\n",
        "- [Saving and loading notebooks in GitHub](https://colab.research.google.com/github/googlecolab/colabtools/blob/master/notebooks/colab-github-demo.ipynb)\n",
        "- [Interactive forms](/notebooks/forms.ipynb)\n",
        "- [Interactive widgets](/notebooks/widgets.ipynb)\n",
        "\n",
        "### Working with Data\n",
        "- [Loading data: Drive, Sheets, and Google Cloud Storage](/notebooks/io.ipynb)\n",
        "- [Charts: visualizing data](/notebooks/charts.ipynb)\n",
        "- [Getting started with BigQuery](/notebooks/bigquery.ipynb)\n",
        "\n",
        "### Machine Learning Crash Course\n",
        "These are a few of the notebooks from Google's online Machine Learning course. See the [full course website](https://developers.google.com/machine-learning/crash-course/) for more.\n",
        "- [Intro to Pandas](/notebooks/mlcc/intro_to_pandas.ipynb)\n",
        "- [Tensorflow concepts](/notebooks/mlcc/tensorflow_programming_concepts.ipynb)\n",
        "- [First steps with TensorFlow](/notebooks/mlcc/first_steps_with_tensor_flow.ipynb)\n",
        "- [Intro to neural nets](/notebooks/mlcc/intro_to_neural_nets.ipynb)\n",
        "- [Intro to sparse data and embeddings](/notebooks/mlcc/intro_to_sparse_data_and_embeddings.ipynb)\n",
        "\n",
        "### Using Accelerated Hardware\n",
        "- [TensorFlow with GPUs](/notebooks/gpu.ipynb)\n",
        "- [TensorFlow with TPUs](/notebooks/tpu.ipynb)"
      ]
    },
    {
      "cell_type": "markdown",
      "metadata": {
        "id": "PT5cUO0od2BT"
      },
      "source": [
        "<p><a name=\"pythonIntro\"></a></p>\n",
        "\n",
        "# 2) Introducción a Python\n",
        "\n",
        "[[Contenidos]](#contents)\n",
        "\n",
        "La presente sección es un breve introducción que permite al estudiantado aprender las bases básicas del lenguaje de programación Python."
      ]
    },
    {
      "cell_type": "markdown",
      "metadata": {
        "id": "cwM2hsafqGeb"
      },
      "source": [
        "<p><a name=\"sections\"></a></p>\n",
        "\n",
        "#Secciones - Introducción a Python\n",
        "\n",
        "- <a href=\"#mods\">2.1. Módulos</a><br>\n",
        "- <a href=\"#ayuda\">2.2. Ayudas y descripciones</a><br>\n",
        "- <a href=\"#vars\">2.3. Variables y tipos</a><br>\n",
        " - <a href=\"#syms\">2.3.1. Nombres de variables</a><br>\n",
        "  - <a href=\"#asign\">2.3.2. Asignación</a><br>\n",
        "  - <a href=\"#ftypes\">2.3.3. Tipos fundamentales</a><br>\n",
        "- <a href=\"#ops&comps\">2.4. Operadores y comparaciones</a><br>\n",
        " - <a href=\"#mscut\">2.4.1. Atajos de operaciones matemáticas y asignaciones</a><br>\n",
        "- <a href=\"#gputpusection\">2.5. GPU y TPU</a><br>\n",
        "\n"
      ]
    },
    {
      "cell_type": "markdown",
      "metadata": {
        "id": "4nNpYw-fkCzu"
      },
      "source": [
        "<p><a name=\"mods\"></a></p>\n",
        "\n",
        "##2.1. Módulos\n",
        "\n",
        "[[Secciones]](#sections)\n",
        "\n",
        "La mayoria de funcionalidades en Python estan proporcionadas por los módulos. Para poder usar un módulo en un programa de Python lo primero que se debe realizar es importarlo mediante la sentencia **import**. Existen gran variedad de módulos y cada módulo en Python tiene un enfoque. Por ejemplo, para importa el módulo *math*, el cual contiene gran variedad de funciones matemáticas, podemos hacer lo siguiente"
      ]
    },
    {
      "cell_type": "code",
      "execution_count": null,
      "metadata": {
        "id": "ZE_1fo7exqpJ"
      },
      "outputs": [],
      "source": [
        "import math"
      ]
    },
    {
      "cell_type": "markdown",
      "metadata": {
        "id": "GE-bHIc13zbr"
      },
      "source": [
        "La línea de código anterior implica la importación de todo el módulo, haciéndolo disponible para su uso posterior dentro del programa. Por ejemplo, podemos usar funciones triconométricas para calcular algún valor y almacenarlo en una variable:"
      ]
    },
    {
      "cell_type": "code",
      "execution_count": null,
      "metadata": {
        "colab": {
          "base_uri": "https://localhost:8080/"
        },
        "id": "XitBm17m5a83",
        "outputId": "f1287be5-3089-486e-d942-61519e67cda8"
      },
      "outputs": [
        {
          "data": {
            "text/plain": [
              "1.0"
            ]
          },
          "execution_count": 2,
          "metadata": {},
          "output_type": "execute_result"
        }
      ],
      "source": [
        "x = math.cos(2*math.pi)\n",
        "x"
      ]
    },
    {
      "cell_type": "markdown",
      "metadata": {
        "id": "HCVT2oSL5t-i"
      },
      "source": [
        "Con el objetivo de usar solo lo necesario en algunos casos el importar una librería completa implica mayor peso en nuestro programa lo que puede llevar a un tiempo de ejecución o un consumo de memoria innecesario, podemos escoger importar unas cuantas funciones del módulo haciendo explicito cuales de ellas queremos importar."
      ]
    },
    {
      "cell_type": "code",
      "execution_count": null,
      "metadata": {
        "colab": {
          "base_uri": "https://localhost:8080/"
        },
        "id": "ByqZG1n-7cRB",
        "outputId": "82883a23-5307-47b4-91a1-3436751f5c15"
      },
      "outputs": [
        {
          "data": {
            "text/plain": [
              "1.0"
            ]
          },
          "execution_count": 5,
          "metadata": {},
          "output_type": "execute_result"
        }
      ],
      "source": [
        "from math import cos, pi\n",
        "\n",
        "x = cos(2*pi)\n",
        "x"
      ]
    },
    {
      "cell_type": "code",
      "execution_count": null,
      "metadata": {
        "id": "cZCP66VcEI7d"
      },
      "outputs": [],
      "source": [
        "pip install numpy"
      ]
    },
    {
      "cell_type": "markdown",
      "metadata": {
        "id": "3sg_iNHt710g"
      },
      "source": [
        "También es posible asignarle un nombre de acceso a los modolus o símbolos que se importan mediante el uso de **as**:"
      ]
    },
    {
      "cell_type": "code",
      "execution_count": null,
      "metadata": {
        "colab": {
          "base_uri": "https://localhost:8080/"
        },
        "id": "0iwmV-jb8yW_",
        "outputId": "6da6e5fa-324e-4362-c6c1-1cac34d88287"
      },
      "outputs": [
        {
          "data": {
            "text/plain": [
              "180.0"
            ]
          },
          "execution_count": 5,
          "metadata": {},
          "output_type": "execute_result"
        }
      ],
      "source": [
        "import numpy as np\n",
        "from math import pi as number_pi\n",
        "\n",
        "#A continuación, convertímos el número pi de radianes a grados.\n",
        "\n",
        "x = np.rad2deg(number_pi)\n",
        "x"
      ]
    },
    {
      "cell_type": "markdown",
      "metadata": {
        "id": "YeHNWODgmKvV"
      },
      "source": [
        "<p><a name=\"ayuda\"></a></p>\n",
        "\n",
        "## 2.2. Ayudas y descripciones\n",
        "\n",
        "[[Secciones]](#sections)\n",
        "\n",
        "Mediante el uso de la función $help$, se puede obtener una descripción de casi todas las funciones. Por ejemplo, para obtener una descripción de la funcion $log$ de la libreria $math$ ejecutamos el siguiente comando:"
      ]
    },
    {
      "cell_type": "code",
      "execution_count": null,
      "metadata": {
        "id": "zUMWS8_2WAoK"
      },
      "outputs": [],
      "source": [
        "help(np)"
      ]
    },
    {
      "cell_type": "code",
      "execution_count": null,
      "metadata": {
        "colab": {
          "base_uri": "https://localhost:8080/"
        },
        "id": "x2g4OJvvmsNv",
        "outputId": "b7906cfa-32b8-4023-cba0-74b3cad1e252"
      },
      "outputs": [
        {
          "name": "stdout",
          "output_type": "stream",
          "text": [
            "Help on built-in function log in module math:\n",
            "\n",
            "log(...)\n",
            "    log(x, [base=math.e])\n",
            "    Return the logarithm of x to the given base.\n",
            "    \n",
            "    If the base not specified, returns the natural logarithm (base e) of x.\n",
            "\n"
          ]
        }
      ],
      "source": [
        "help(math.log)"
      ]
    },
    {
      "cell_type": "code",
      "execution_count": null,
      "metadata": {
        "colab": {
          "base_uri": "https://localhost:8080/"
        },
        "id": "5wPJ6DN2-6C1",
        "outputId": "1568bb32-620a-427c-e1f0-41e5c850e9c6"
      },
      "outputs": [
        {
          "data": {
            "text/plain": [
              "2.302585092994046"
            ]
          },
          "execution_count": 10,
          "metadata": {},
          "output_type": "execute_result"
        }
      ],
      "source": [
        "math.log(10)"
      ]
    },
    {
      "cell_type": "code",
      "execution_count": null,
      "metadata": {
        "colab": {
          "base_uri": "https://localhost:8080/"
        },
        "id": "zrqIE3dZ_Ck-",
        "outputId": "8c973a96-f022-4e1e-8c17-adfac798701f"
      },
      "outputs": [
        {
          "data": {
            "text/plain": [
              "3.3219280948873626"
            ]
          },
          "execution_count": 11,
          "metadata": {},
          "output_type": "execute_result"
        }
      ],
      "source": [
        "math.log(10,2)"
      ]
    },
    {
      "cell_type": "code",
      "execution_count": null,
      "metadata": {
        "colab": {
          "base_uri": "https://localhost:8080/"
        },
        "id": "emjiA8dH_FY3",
        "outputId": "e5bfadf7-0fd9-42f9-e1f0-15e01e1d49d0"
      },
      "outputs": [
        {
          "data": {
            "text/plain": [
              "1.0"
            ]
          },
          "execution_count": 12,
          "metadata": {},
          "output_type": "execute_result"
        }
      ],
      "source": [
        "math.log(10,10)"
      ]
    },
    {
      "cell_type": "markdown",
      "metadata": {
        "id": "4SdWFMpF_iyw"
      },
      "source": [
        "<p><a name=\"vars\"></a></p>\n",
        "\n",
        "## 2.3. Variables y tipos\n",
        "\n",
        "[[Secciones]](#sections)\n"
      ]
    },
    {
      "cell_type": "markdown",
      "metadata": {
        "id": "OmG1xsWVBh3G"
      },
      "source": [
        "<p><a name=\"syms\"></a></p>\n",
        "\n",
        "### 2.3.1. Variables y tipos\n",
        "\n",
        "Los nombres de las variables en Python pueden contener caracteres alfanuméricos *a-z*, *A-Z*, *0-9* y algunos caracteres especiales como _. Los nombres de las variables deben comenzar con una letra.\n",
        "\n",
        "Por convención, los nombres de las variables comienzan con letras minúsculas, y los nombres de las Clases con letras mayúsculas.\n",
        "\n",
        "Adicionalmente, existe un número de palabras claves que no pueden ser usadas como nombres de variables. Estas palabras claves son:\n",
        "\n",
        "> `and, as, assert, break, class, continue, def, del, elif, else, except, exec, finally, for, from, global, if, import, in, is, lambda, not, or, pass, print, raise, return, try, while, with, yield`\n",
        "\n"
      ]
    },
    {
      "cell_type": "markdown",
      "metadata": {
        "id": "0tOzwypQG20y"
      },
      "source": [
        "<p><a name=\"asign\"></a></p>\n",
        "\n",
        "### 2.3.2. Asignación.\n",
        "\n",
        "En Python, el operado de asignación es \"=\".  Python es un lenguaje de tipado dinámico, de tal forma que no es necesario asignarle un tipo a la variable cuando es creada.\n",
        "\n",
        "La asignación de un valor a una variable crea la variable. Por ejemplo:"
      ]
    },
    {
      "cell_type": "code",
      "execution_count": null,
      "metadata": {
        "id": "65XTvJMTHH5w"
      },
      "outputs": [],
      "source": [
        "x = 1"
      ]
    },
    {
      "cell_type": "markdown",
      "metadata": {
        "id": "eTOeTstfKVgJ"
      },
      "source": [
        "Aunque no se hizo explicito, la variable tiene un tipo asociado a ella. El tipo de la variable puede deducirse del valor que le fue asignado. También podemos consultar el tipo mediante la función `type`:"
      ]
    },
    {
      "cell_type": "code",
      "execution_count": null,
      "metadata": {
        "colab": {
          "base_uri": "https://localhost:8080/"
        },
        "id": "QTB-K6oxKnEK",
        "outputId": "dfe882e2-b04f-423f-bc04-8c981e44d613"
      },
      "outputs": [
        {
          "data": {
            "text/plain": [
              "int"
            ]
          },
          "execution_count": 16,
          "metadata": {},
          "output_type": "execute_result"
        }
      ],
      "source": [
        "type(x)"
      ]
    },
    {
      "cell_type": "markdown",
      "metadata": {
        "id": "wjTTfD72Ktv5"
      },
      "source": [
        "Si asignamos a la variable un nuevo valor, su tipo puede cambiar:"
      ]
    },
    {
      "cell_type": "code",
      "execution_count": null,
      "metadata": {
        "id": "56_xIXF8X8pI"
      },
      "outputs": [],
      "source": [
        "y:str= \"hola\"\n",
        "m:int=3"
      ]
    },
    {
      "cell_type": "code",
      "execution_count": null,
      "metadata": {
        "colab": {
          "base_uri": "https://localhost:8080/"
        },
        "id": "tx2oPzaFYDd3",
        "outputId": "50272da6-d535-49d8-b7a6-72ecc3090f2e"
      },
      "outputs": [
        {
          "data": {
            "text/plain": [
              "int"
            ]
          },
          "execution_count": 18,
          "metadata": {},
          "output_type": "execute_result"
        }
      ],
      "source": [
        "type(m)"
      ]
    },
    {
      "cell_type": "code",
      "execution_count": null,
      "metadata": {
        "colab": {
          "base_uri": "https://localhost:8080/"
        },
        "id": "SkbRDe3hKz78",
        "outputId": "80602392-f244-4e6c-a8d0-45bfb49d3dda"
      },
      "outputs": [
        {
          "data": {
            "text/plain": [
              "int"
            ]
          },
          "execution_count": 65,
          "metadata": {},
          "output_type": "execute_result"
        }
      ],
      "source": [
        "x = 1\n",
        "type(x)"
      ]
    },
    {
      "cell_type": "markdown",
      "metadata": {
        "id": "VyawEMh7LDkv"
      },
      "source": [
        "Si intentamos usar una variable que no ha sido definida aun, obtenemos un error `NameError` (Nótese que usarémos en los notebooks los bloques `try/except` para tratar las excepciones, de tal forma que el notebook no se interrumpa).\n",
        "\n",
        "En el siguiente código, intentaremos usar la función `print` de tal forma que si ocurre la excepción `NameError`, se imprime un mensaje en pantalla; de lo contrario, se generará un error. Más adelante, en el presente notebook, se estudiará mas detalladamente el manejo de excepciones.\n",
        "\n",
        "\n",
        "\n",
        "`raise` Sirve para lanzar excepciones de forma intencional, raise hace que el programa caiga y se detenga en esa línea de excepción.\n"
      ]
    },
    {
      "cell_type": "code",
      "execution_count": null,
      "metadata": {
        "colab": {
          "base_uri": "https://localhost:8080/"
        },
        "id": "liKk4M_dLyfN",
        "outputId": "0328a2ed-543d-4308-9911-91892ab320e1"
      },
      "outputs": [
        {
          "name": "stdout",
          "output_type": "stream",
          "text": [
            "nombre el error name 'yw' is not defined\n",
            "fin\n"
          ]
        }
      ],
      "source": [
        "try:\n",
        "    print(yw)\n",
        "except(NameError) as e:\n",
        "   print(\"nombre el error\", e)\n",
        "\n",
        "print(\"fin\")"
      ]
    },
    {
      "cell_type": "code",
      "execution_count": null,
      "metadata": {
        "id": "PMyTjcNv7ESN"
      },
      "outputs": [],
      "source": [
        "def identificar(valor):\n",
        "  if valor > 5:\n",
        "    raise ZeroDivisionError(\"My error\")\n",
        "  else:\n",
        "    print(valor)"
      ]
    },
    {
      "cell_type": "code",
      "execution_count": null,
      "metadata": {
        "colab": {
          "base_uri": "https://localhost:8080/",
          "height": 314
        },
        "id": "Wce3bS8ienNV",
        "outputId": "bddce7ba-fb11-4dab-91db-2d6ab29631e2"
      },
      "outputs": [
        {
          "ename": "ZeroDivisionError",
          "evalue": "ignored",
          "output_type": "error",
          "traceback": [
            "\u001b[0;31m---------------------------------------------------------------------------\u001b[0m",
            "\u001b[0;31mZeroDivisionError\u001b[0m                         Traceback (most recent call last)",
            "\u001b[0;32m<ipython-input-24-8462979895bb>\u001b[0m in \u001b[0;36m<cell line: 1>\u001b[0;34m()\u001b[0m\n\u001b[0;32m----> 1\u001b[0;31m \u001b[0midentificar\u001b[0m\u001b[0;34m(\u001b[0m\u001b[0;36m6\u001b[0m\u001b[0;34m)\u001b[0m\u001b[0;34m\u001b[0m\u001b[0;34m\u001b[0m\u001b[0m\n\u001b[0m\u001b[1;32m      2\u001b[0m \u001b[0mprint\u001b[0m\u001b[0;34m(\u001b[0m\u001b[0;34m\"un mensaje despues de raise\"\u001b[0m\u001b[0;34m)\u001b[0m\u001b[0;34m\u001b[0m\u001b[0;34m\u001b[0m\u001b[0m\n",
            "\u001b[0;32m<ipython-input-22-b8a0973a1186>\u001b[0m in \u001b[0;36midentificar\u001b[0;34m(valor)\u001b[0m\n\u001b[1;32m      1\u001b[0m \u001b[0;32mdef\u001b[0m \u001b[0midentificar\u001b[0m\u001b[0;34m(\u001b[0m\u001b[0mvalor\u001b[0m\u001b[0;34m)\u001b[0m\u001b[0;34m:\u001b[0m\u001b[0;34m\u001b[0m\u001b[0;34m\u001b[0m\u001b[0m\n\u001b[1;32m      2\u001b[0m   \u001b[0;32mif\u001b[0m \u001b[0mvalor\u001b[0m \u001b[0;34m>\u001b[0m \u001b[0;36m5\u001b[0m\u001b[0;34m:\u001b[0m\u001b[0;34m\u001b[0m\u001b[0;34m\u001b[0m\u001b[0m\n\u001b[0;32m----> 3\u001b[0;31m     \u001b[0;32mraise\u001b[0m \u001b[0mZeroDivisionError\u001b[0m\u001b[0;34m(\u001b[0m\u001b[0;34m\"My error\"\u001b[0m\u001b[0;34m)\u001b[0m\u001b[0;34m\u001b[0m\u001b[0;34m\u001b[0m\u001b[0m\n\u001b[0m\u001b[1;32m      4\u001b[0m   \u001b[0;32melse\u001b[0m\u001b[0;34m:\u001b[0m\u001b[0;34m\u001b[0m\u001b[0;34m\u001b[0m\u001b[0m\n\u001b[1;32m      5\u001b[0m     \u001b[0mprint\u001b[0m\u001b[0;34m(\u001b[0m\u001b[0mvalor\u001b[0m\u001b[0;34m)\u001b[0m\u001b[0;34m\u001b[0m\u001b[0;34m\u001b[0m\u001b[0m\n",
            "\u001b[0;31mZeroDivisionError\u001b[0m: My error"
          ]
        }
      ],
      "source": [
        "identificar(6)\n",
        "print(\"un mensaje despues de raise\")"
      ]
    },
    {
      "cell_type": "markdown",
      "metadata": {
        "id": "DrrYSJFGNlTQ"
      },
      "source": [
        "<p><a name=\"ftypes\"></a></p>\n",
        "\n",
        "### 2.3.3. Tipos fundamentales.\n",
        "\n",
        "En Python, los tipos fundamentales son\n",
        "\n",
        "\n",
        "\n",
        "\n",
        "\n",
        "1.   Enteros (int).\n",
        "2.   Punto flotante (float).\n",
        "3.   Buleanos (boolean)\n",
        "4.   Cadena de caracteres (strings).\n",
        "\n",
        "Veamos algunos ejemplos de estos tipos:\n",
        "\n",
        "\n",
        "\n",
        "\n"
      ]
    },
    {
      "cell_type": "code",
      "execution_count": null,
      "metadata": {
        "colab": {
          "base_uri": "https://localhost:8080/"
        },
        "id": "AsH88KwXOjvT",
        "outputId": "cebe6f55-6c1d-4f4b-b456-35b202246eac"
      },
      "outputs": [
        {
          "data": {
            "text/plain": [
              "int"
            ]
          },
          "execution_count": 34,
          "metadata": {},
          "output_type": "execute_result"
        }
      ],
      "source": [
        "# integers\n",
        "\n",
        "x = 1\n",
        "type(x)"
      ]
    },
    {
      "cell_type": "code",
      "execution_count": null,
      "metadata": {
        "colab": {
          "base_uri": "https://localhost:8080/"
        },
        "id": "d0MOnaqlOtrc",
        "outputId": "d63a91da-eea3-4cec-c39b-74af1a817aea"
      },
      "outputs": [
        {
          "data": {
            "text/plain": [
              "float"
            ]
          },
          "execution_count": 35,
          "metadata": {},
          "output_type": "execute_result"
        }
      ],
      "source": [
        "# float\n",
        "\n",
        "x = 1.0\n",
        "type(x)"
      ]
    },
    {
      "cell_type": "code",
      "execution_count": null,
      "metadata": {
        "colab": {
          "base_uri": "https://localhost:8080/"
        },
        "id": "D4YDFbxpO1HX",
        "outputId": "4a807e19-ae9d-455e-a99e-2f57949a73b9"
      },
      "outputs": [
        {
          "data": {
            "text/plain": [
              "(bool, bool)"
            ]
          },
          "execution_count": 36,
          "metadata": {},
          "output_type": "execute_result"
        }
      ],
      "source": [
        "# boolean\n",
        "\n",
        "b1 = True\n",
        "b2 = False\n",
        "\n",
        "type(b1), type(b2)"
      ]
    },
    {
      "cell_type": "code",
      "execution_count": null,
      "metadata": {
        "colab": {
          "base_uri": "https://localhost:8080/"
        },
        "id": "tbWinpAZPDir",
        "outputId": "27154c46-92ec-4533-ca84-3b584ada85b3"
      },
      "outputs": [
        {
          "data": {
            "text/plain": [
              "str"
            ]
          },
          "execution_count": 25,
          "metadata": {},
          "output_type": "execute_result"
        }
      ],
      "source": [
        "# string\n",
        "s = \"H\"\n",
        "\n",
        "type(s)"
      ]
    },
    {
      "cell_type": "markdown",
      "metadata": {
        "id": "YonkX37TQTzA"
      },
      "source": [
        "<p><a name=\"ops&comps\"></a></p>\n",
        "\n",
        "## 2.4. Operadores y comparaciones.\n",
        "\n",
        "[[Secciones]](#sections)\n",
        "\n",
        "La mayoria de operadores y comparaciones poseen el significado al que, comunmente, estamos acostumbrados.\n",
        "<br>\n",
        "<br>\n",
        "*   Operadores aritméticos  `+`, `-`, `*`, `/`, `**` (potencia), `%` (módulo)\n",
        "\n",
        "\n"
      ]
    },
    {
      "cell_type": "code",
      "execution_count": null,
      "metadata": {
        "colab": {
          "base_uri": "https://localhost:8080/",
          "height": 34
        },
        "id": "a0aadW7WQ4MJ",
        "outputId": "92b196fc-4a82-4473-f69e-832fc546763f"
      },
      "outputs": [
        {
          "data": {
            "text/plain": [
              "[3, -1, 2, 2]"
            ]
          },
          "execution_count": 20,
          "metadata": {
            "tags": []
          },
          "output_type": "execute_result"
        }
      ],
      "source": [
        "[1 + 2, 1 - 2, 1 * 2, 5 % 3]"
      ]
    },
    {
      "cell_type": "code",
      "execution_count": null,
      "metadata": {
        "colab": {
          "base_uri": "https://localhost:8080/"
        },
        "id": "vK91EBAj9JuQ",
        "outputId": "cdedc855-d75f-4ef2-f313-ffb5fda8cf32"
      },
      "outputs": [
        {
          "data": {
            "text/plain": [
              "8"
            ]
          },
          "execution_count": 26,
          "metadata": {},
          "output_type": "execute_result"
        }
      ],
      "source": [
        "2**3"
      ]
    },
    {
      "cell_type": "markdown",
      "metadata": {
        "id": "9ZnMeEaE92ig"
      },
      "source": [
        "Docker ... Kubernates ..."
      ]
    },
    {
      "cell_type": "markdown",
      "metadata": {
        "id": "5QjhwpkeAP7i"
      },
      "source": [
        "En Python 2.7, el tipo de división (/) que se ejecute, depende del tipo de números involucrados. Si todos los números son enteros, la división será una divión entera, de lo contrario, será una operación en coma flotante. En Python 3, este hecho ha cambiado y las fracciones no se pierden cuando se dividen dos enteros (para las divisiones enteras se puede usar el operdor //)"
      ]
    },
    {
      "cell_type": "code",
      "execution_count": null,
      "metadata": {
        "colab": {
          "base_uri": "https://localhost:8080/"
        },
        "id": "e5nUz2kxAHwp",
        "outputId": "c8a83596-c551-4afa-acd6-d4ae049bdce9"
      },
      "outputs": [
        {
          "name": "stdout",
          "output_type": "stream",
          "text": [
            "0.5\n",
            "0.5\n",
            "1.0\n"
          ]
        }
      ],
      "source": [
        "# En Python 3 las siguientes dos operaciones daran el mismo resultado.\n",
        "# En Python 2, la primera de ellas será tratada como una división entera.\n",
        "\n",
        "print(1/2)\n",
        "print(1/2.0)\n",
        "print(11//6.0)"
      ]
    },
    {
      "cell_type": "code",
      "execution_count": null,
      "metadata": {
        "colab": {
          "base_uri": "https://localhost:8080/"
        },
        "id": "zJKMj5GKBmig",
        "outputId": "edc8a87a-3298-4ad9-a615-6e810b139ccb"
      },
      "outputs": [
        {
          "data": {
            "text/plain": [
              "4"
            ]
          },
          "execution_count": 39,
          "metadata": {},
          "output_type": "execute_result"
        }
      ],
      "source": [
        "# Nótese que la potenciación en Python se escribe de la forma ** y\n",
        "# no como ^\n",
        "\n",
        "2**2"
      ]
    },
    {
      "cell_type": "markdown",
      "metadata": {
        "id": "inA_zCFhCJMQ"
      },
      "source": [
        "\n",
        "*   Los buleanos están conectados o precedidos por palabras como `and`, `not`, `or`.\n",
        "\n"
      ]
    },
    {
      "cell_type": "code",
      "execution_count": null,
      "metadata": {
        "colab": {
          "base_uri": "https://localhost:8080/"
        },
        "id": "d1L933QDB_jc",
        "outputId": "42619b6e-64ab-40eb-c7d1-c1c96730f44a"
      },
      "outputs": [
        {
          "name": "stdout",
          "output_type": "stream",
          "text": [
            "True\n"
          ]
        }
      ],
      "source": [
        "a = \"6\"\n",
        "b = 3\n",
        "\n",
        "variable = a!=5 and b<4\n",
        "print(variable)"
      ]
    },
    {
      "cell_type": "code",
      "execution_count": null,
      "metadata": {
        "colab": {
          "base_uri": "https://localhost:8080/"
        },
        "id": "DAvHDZZPDKY0",
        "outputId": "caf4c426-b82f-466d-9d98-0ed8ed6403bc"
      },
      "outputs": [
        {
          "data": {
            "text/plain": [
              "True"
            ]
          },
          "execution_count": 41,
          "metadata": {},
          "output_type": "execute_result"
        }
      ],
      "source": [
        "not False"
      ]
    },
    {
      "cell_type": "code",
      "execution_count": null,
      "metadata": {
        "colab": {
          "base_uri": "https://localhost:8080/"
        },
        "id": "P_uDESoGDMt2",
        "outputId": "29272306-2fce-4c30-baeb-c47e79b8d10a"
      },
      "outputs": [
        {
          "data": {
            "text/plain": [
              "True"
            ]
          },
          "execution_count": 42,
          "metadata": {},
          "output_type": "execute_result"
        }
      ],
      "source": [
        "True or False"
      ]
    },
    {
      "cell_type": "markdown",
      "metadata": {
        "id": "mXNEKXU1DWPN"
      },
      "source": [
        "\n",
        "\n",
        "*   Operadores de comparación `>`, `<`, `>=`(mayor o igual), `<=` (menor o igual), `==` (igual), `!=`(no igual) y `is` (identico).\n"
      ]
    },
    {
      "cell_type": "code",
      "execution_count": null,
      "metadata": {
        "colab": {
          "base_uri": "https://localhost:8080/"
        },
        "id": "j4eUgIFhDOYF",
        "outputId": "029f87e7-1d14-4e8b-c4ae-0c9f52075254"
      },
      "outputs": [
        {
          "data": {
            "text/plain": [
              "(True, False)"
            ]
          },
          "execution_count": 43,
          "metadata": {},
          "output_type": "execute_result"
        }
      ],
      "source": [
        "2>1,2<1"
      ]
    },
    {
      "cell_type": "code",
      "execution_count": null,
      "metadata": {
        "colab": {
          "base_uri": "https://localhost:8080/"
        },
        "id": "iBvOf56_INhS",
        "outputId": "68ad37cf-8d0d-4f6a-e624-438d9045450a"
      },
      "outputs": [
        {
          "data": {
            "text/plain": [
              "(False, False)"
            ]
          },
          "execution_count": 44,
          "metadata": {},
          "output_type": "execute_result"
        }
      ],
      "source": [
        "2>3,2<2"
      ]
    },
    {
      "cell_type": "code",
      "execution_count": null,
      "metadata": {
        "colab": {
          "base_uri": "https://localhost:8080/"
        },
        "id": "JUtV68qaIVPz",
        "outputId": "70127364-7957-4da6-95ee-c3a8a319665c"
      },
      "outputs": [
        {
          "data": {
            "text/plain": [
              "(True, True)"
            ]
          },
          "execution_count": 45,
          "metadata": {},
          "output_type": "execute_result"
        }
      ],
      "source": [
        "4<=4,4>=4"
      ]
    },
    {
      "cell_type": "code",
      "execution_count": null,
      "metadata": {
        "colab": {
          "base_uri": "https://localhost:8080/"
        },
        "id": "Uf1ILoH1Idk-",
        "outputId": "c2a81f06-df09-45b1-8ae5-7dfd927f6957"
      },
      "outputs": [
        {
          "data": {
            "text/plain": [
              "True"
            ]
          },
          "execution_count": 46,
          "metadata": {},
          "output_type": "execute_result"
        }
      ],
      "source": [
        "#igual a\n",
        "[3,2]==[3,2]"
      ]
    },
    {
      "cell_type": "code",
      "execution_count": null,
      "metadata": {
        "colab": {
          "base_uri": "https://localhost:8080/"
        },
        "id": "eeW5ikeSIm45",
        "outputId": "0e4d0dc2-c448-40b4-857b-1748bb49980b"
      },
      "outputs": [
        {
          "data": {
            "text/plain": [
              "True"
            ]
          },
          "execution_count": 47,
          "metadata": {},
          "output_type": "execute_result"
        }
      ],
      "source": [
        "# Not equal to\n",
        "\n",
        "2 != 5"
      ]
    },
    {
      "cell_type": "markdown",
      "metadata": {
        "id": "NqneYrrcI0n-"
      },
      "source": [
        "*   Operador buleano"
      ]
    },
    {
      "cell_type": "code",
      "execution_count": null,
      "metadata": {
        "colab": {
          "base_uri": "https://localhost:8080/",
          "height": 68
        },
        "id": "ZLEkrzmMIueo",
        "outputId": "0f17f714-32bb-4233-8a4f-f04aa8a75888"
      },
      "outputs": [
        {
          "name": "stdout",
          "output_type": "stream",
          "text": [
            "False\n",
            "False\n",
            "True\n"
          ]
        }
      ],
      "source": [
        "x = True\n",
        "y = False\n",
        "\n",
        "print(not x)\n",
        "print(x and y)\n",
        "print(x or y)"
      ]
    },
    {
      "cell_type": "markdown",
      "metadata": {
        "id": "t6oenfZvJaNS"
      },
      "source": [
        "*   Comparación de strings"
      ]
    },
    {
      "cell_type": "code",
      "execution_count": null,
      "metadata": {
        "colab": {
          "base_uri": "https://localhost:8080/"
        },
        "id": "f8ohMBiH_-gE",
        "outputId": "6f89672f-79f0-4404-c776-9a681a70d0c5"
      },
      "outputs": [
        {
          "name": "stdout",
          "output_type": "stream",
          "text": [
            "ingrese el texto a comparar: Hola\n"
          ]
        }
      ],
      "source": [
        "txtComparar = input(\"ingrese el texto a comparar: \")"
      ]
    },
    {
      "cell_type": "code",
      "execution_count": null,
      "metadata": {
        "colab": {
          "base_uri": "https://localhost:8080/"
        },
        "id": "KbtlcSftJomq",
        "outputId": "63d237b5-09ce-4660-a780-0c8a3587dc67"
      },
      "outputs": [
        {
          "data": {
            "text/plain": [
              "False"
            ]
          },
          "execution_count": 36,
          "metadata": {},
          "output_type": "execute_result"
        }
      ],
      "source": [
        "txtComparar in \"Me gusta estar bien\""
      ]
    },
    {
      "cell_type": "code",
      "execution_count": null,
      "metadata": {
        "colab": {
          "base_uri": "https://localhost:8080/",
          "height": 34
        },
        "id": "XzA-tS3-J1NH",
        "outputId": "a0d69218-c5b6-4396-9ac7-95f434333309"
      },
      "outputs": [
        {
          "data": {
            "text/plain": [
              "True"
            ]
          },
          "execution_count": 33,
          "metadata": {
            "tags": []
          },
          "output_type": "execute_result"
        }
      ],
      "source": [
        "\"estan\" not in \"Me gusta estar bien\""
      ]
    },
    {
      "cell_type": "markdown",
      "metadata": {
        "id": "46t9Rw_FLLcm"
      },
      "source": [
        "<p><a name=\"mscut\"></a></p>\n",
        "\n",
        "### 2.4.1 Atajos de operaciones matemáticas y asignaciones.\n",
        "\n",
        "[[Secciones]](#sections)\n",
        "\n",
        "Por ejemplo, la siguiente asignación y operación:\n"
      ]
    },
    {
      "cell_type": "code",
      "execution_count": null,
      "metadata": {
        "colab": {
          "base_uri": "https://localhost:8080/",
          "height": 34
        },
        "id": "7NxR98r1J8aX",
        "outputId": "8b0b65c5-bb8b-455f-eba8-3d98e8f5639d"
      },
      "outputs": [
        {
          "name": "stdout",
          "output_type": "stream",
          "text": [
            "4\n"
          ]
        }
      ],
      "source": [
        "a = 2\n",
        "a = a*2\n",
        "print(a)"
      ]
    },
    {
      "cell_type": "code",
      "execution_count": null,
      "metadata": {
        "id": "KLZIws8MAb0y"
      },
      "outputs": [],
      "source": [
        "contador = contador + 1\n",
        "contador+=1"
      ]
    },
    {
      "cell_type": "markdown",
      "metadata": {
        "id": "Oh-Lc8DGMNLK"
      },
      "source": [
        "el comando `a = a * 2`, puede ser abreviado como `a *= 2`. Este tipo de abreviaciones funcionan con las siguientes operaciones `+=`, `-=`, y `/=`."
      ]
    },
    {
      "cell_type": "code",
      "execution_count": null,
      "metadata": {
        "colab": {
          "base_uri": "https://localhost:8080/"
        },
        "id": "4j9hXwTxMGUq",
        "outputId": "01f9a960-2548-420f-e65f-6ec27cec474d"
      },
      "outputs": [
        {
          "name": "stdout",
          "output_type": "stream",
          "text": [
            "16\n"
          ]
        }
      ],
      "source": [
        "a = 4\n",
        "a *= 4\n",
        "print(a)"
      ]
    },
    {
      "cell_type": "markdown",
      "metadata": {
        "id": "I076rie_sZ0V"
      },
      "source": [
        "**Variables Hard - codeada**"
      ]
    },
    {
      "cell_type": "code",
      "execution_count": null,
      "metadata": {
        "id": "raY6EkUxspQC"
      },
      "outputs": [],
      "source": [
        "a,b,c,d = funcionX()"
      ]
    },
    {
      "cell_type": "code",
      "execution_count": null,
      "metadata": {
        "colab": {
          "base_uri": "https://localhost:8080/"
        },
        "id": "LmNPMlGusse6",
        "outputId": "885cdcaf-032d-4356-9d7a-691996d74679"
      },
      "outputs": [
        {
          "name": "stdout",
          "output_type": "stream",
          "text": [
            "H\n"
          ]
        }
      ],
      "source": [
        "print(a)"
      ]
    },
    {
      "cell_type": "markdown",
      "metadata": {
        "id": "oOUen96OuZAS"
      },
      "source": [
        "<p><a name=\"gputpusection\"></a></p>\n",
        "\n",
        "### 2.5 GPU y TPU.\n",
        "\n",
        "[[Secciones]](#sections)\n",
        "\n",
        "GPU (Graphics Processing Unit): Una GPU es una unidad de procesamiento diseñada para acelerar gráficos y cálculos matemáticos. En Google Colab, puedes acceder a GPUs para acelerar operaciones como entrenamiento de modelos de aprendizaje profundo y cálculos intensivos. Las GPUs son particularmente útiles para ejecutar algoritmos que involucran matrices grandes y operaciones de álgebra lineal, que son comunes en el aprendizaje automático y la inteligencia artificial.\n",
        "\n",
        "TPU (Tensor Processing Unit): Un TPU es una unidad de procesamiento diseñada específicamente para el procesamiento de tensores, que son estructuras de datos multidimensionales utilizadas en el aprendizaje profundo. Los TPUs son extremadamente eficientes para ejecutar tareas de aprendizaje profundo a gran escala, ya que están optimizados para realizar cálculos en paralelo en modelos de redes neuronales. En ciertos casos, los TPUs pueden ser aún más rápidos que las GPUs para el aprendizaje profundo.\n",
        "\n",
        "Para utilizar GPU o TPU en Google Colab, puedes seleccionar la opción correspondiente en el menú \"Entorno de ejecución\" y luego \"Cambiar tipo de entorno de ejecución\". Esto te permite acceder a la potencia de cómputo de estas unidades de procesamiento en tu notebook. Ten en cuenta que, si bien utilizar GPU o TPU puede acelerar significativamente tus cálculos, no todos los algoritmos se beneficiarán por igual de estas unidades, por lo que es importante evaluar cuál es la mejor opción para tus necesidades específicas.\n",
        "\n",
        "\n"
      ]
    },
    {
      "cell_type": "markdown",
      "metadata": {
        "id": "jVgjTPPHgblP"
      },
      "source": [
        "---"
      ]
    }
  ],
  "metadata": {
    "accelerator": "GPU",
    "colab": {
      "provenance": []
    },
    "kernelspec": {
      "display_name": "Python 3",
      "name": "python3"
    }
  },
  "nbformat": 4,
  "nbformat_minor": 0
}
