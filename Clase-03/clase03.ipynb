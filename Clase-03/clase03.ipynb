{
  "cells": [
    {
      "cell_type": "markdown",
      "metadata": {
        "id": "8Eqn3RtteZei"
      },
      "source": [
        "<div align=\"left\">\n",
        "<p><img alt=\"Sapiencia\" height=\"140px\" src=\"https://ubicua.ingeniaudea.co/pluginfile.php/32974/coursecat/description/RF_RedesNeuronales.png\" align=\"left\" hspace=\"10px\" vspace=\"0px\"></p></div>\n",
        "<div align=\"left\"></div>\n",
        "<div>\n",
        "\n",
        "<br></br>\n",
        "\n",
        "<div align=\"left\">\n",
        "<br></br>\n",
        "<br></br>\n",
        "\n",
        "\n",
        "\n",
        "<hr size=10 noshade color=\"#663398\">\n",
        "</p>\n",
        "<p>\n",
        "<img alt=\"CC\" height=\"70px\" src=\"https://creativecommons.org/images/deed/cc_blue_x2.png\" align=\"left\" hspace=\"0px\" vspace=\"0px\">\n",
        "<img alt=\"Attribution\" height=\"70px\" src=\"https://creativecommons.org/images/deed/attribution_icon_blue_x2.png\" align=\"left\" hspace=\"0px\" vspace=\"0px\">\n",
        "<img alt=\"NC\" height=\"70px\" src=\"https://creativecommons.org/images/deed/nc_blue_x2.png\" align=\"left\" hspace=\"0px\" vspace=\"0px\">\n",
        "<img alt=\"SA\" height=\"70px\" src=\"https://creativecommons.org/images/deed/sa_blue_x2.png\" align=\"left\" hspace=\"0px\" vspace=\"0px\">\n",
        "</p>\n",
        "\n",
        "<div align=\"right\">\n",
        "<h1> <b> Por: Cristiam Loaiza </b> </h1>\n",
        "<h2> Ingeniero de datos </h2>\n",
        "<a href=\"mailto:cristiam.loaiza@udea.edu.co\"> ✉ Cristiam Loaiza</a>\n",
        "</div>\n",
        "\n",
        "<br>\n",
        "\n",
        "**El presente material hace parte de la ruta de formación del talento especializado de SAPIENCIA**\n",
        "\n",
        "**Los documentos que utilizaremos en la presente y proximas clases son una mezcla del trabajo de muchos profesores y académicos.**\n",
        "\n",
        "**En caso de utilizar el presente contenido favor citarlo y brindar los créditos respectivos.**\n"
      ]
    },
    {
      "cell_type": "markdown",
      "metadata": {
        "id": "KvGkmbJKmJgO"
      },
      "source": [
        "<p><a name=\"contents\"></a></p>\n",
        "\n",
        "# Contenido\n",
        "\n",
        "- <a href=\"#colabIntro\">1. Introducción a ambientes virtuales</a><br>\n",
        " - - <a href=\"#instalacionVenv\">1.1. Instalación ambiente virtuale</a><br>\n",
        "- <a href=\"#redesIntro\">2. Introducción redes neuronales</a><br>\n",
        "\n"
      ]
    },
    {
      "cell_type": "markdown",
      "metadata": {
        "id": "fwCSPQiBuLQH"
      },
      "source": [
        "<p><a name=\"colabIntro\"></a></p>\n",
        "\n",
        "# 1) Introducción a ambientes virtuales\n",
        "\n",
        "[[Contenidos]](#contents)\n",
        "\n",
        "Un entorno virtual es una herramienta que se utiliza para crear entornos aislados. En python existe una libreria que facilita la creación de dichos entornos virtuales llamada Virtualenv.\n",
        "\n",
        "Virtualenv facilita mantener dependencias requeridas de un proyecto en lugares separados. Imaginemos que tenemos un proyecto con python 3.10 y dash 2.10, pero necesitamos crear un nuevo proyecto que requiere python 3.11 y dash 2.12. Utilizando virtualenv podremos trabajar de manera independiente en los dos proyectos sin ningún conflicto.\n",
        "\n",
        "En esta sección vamos a ver cómo crear un entorno virtual para poder trabajar con Python. Para ello, instalaremos primero la libreria virtualenv \n",
        "\n",
        "```pip install virtualenv```\n",
        "\n",
        "Referencia: https://pypi.org/project/virtualenv/\n",
        "\n"
      ]
    },
    {
      "cell_type": "markdown",
      "metadata": {},
      "source": [
        "<p><a name=\"colabIntro\"></a></p>\n",
        "\n",
        "### 1.1. Instalación ambiente virtual\n",
        "\n",
        "[[Contenidos]](#contents)\n",
        "\n",
        "Pasos para la creación de un ambiente virtual:\n",
        "* Crear una carpeta en una ubicación de preferencia (desktop,downloads,documents etc...) con el nombre del proyecto de python\n",
        "* Una vez creada la carpeta abrimos la consola de windows \"command promp\" o comúnmente llamada CMD y con el comando \n",
        "\n",
        "```cd nombre_proyecto```\n",
        "\n",
        "nos dirigimos a la carpeta creada anteriormente.\n",
        "\n",
        "* Una vez dentro de la carpeta crearemos el entorno virtual, con el siguiente comando en windows.\n",
        "\n",
        "```virtualenv venv```\n",
        "\n",
        "\n",
        "venv es como se llamará el entorno virtual. Se recomienda dejar este nombre por referencia o bien se puede cambiar.\n",
        "\n",
        "* Una vez creado el entorno virtual tendremos que activarlo.\n",
        "Para esto ejecutamos lo siguiente en terminal de windows:\n",
        "\n",
        "```venv\\Scripts\\activate ```\n",
        "\n",
        "y en linux o mac:\n",
        "\n",
        "```source venv/bin/activate ```\n",
        "\n",
        "Una vez activo podremos instalar Jupyter notebook con el siguiente comando en la consola de windows:\n",
        "\n",
        "```pip install jupyter notebook```\n",
        "\n",
        "Instalado Jupyter Notebook podremos activarlo solamente escribiendo en la consola de windows:\n",
        "\n",
        "```jupyter notebook```"
      ]
    },
    {
      "cell_type": "markdown",
      "metadata": {},
      "source": [
        "<p><a name=\"redesIntro\"></a></p>\n",
        "\n",
        "# 2) Introducción a redes neuronales\n",
        "\n",
        "[[Contenidos]](#contents)"
      ]
    },
    {
      "cell_type": "markdown",
      "metadata": {},
      "source": [
        "<img src=\"./img/neuron.png\"/>"
      ]
    },
    {
      "cell_type": "markdown",
      "metadata": {},
      "source": [
        "Partes importantes de la neurona para AI:\n",
        " - Las dendritas: Son las encargadas de recibir las señales del núcleo de la neurona.\n",
        " - Núcleo : Transmiten señales a las dendritas.\n",
        " - Axon: Transmite las señales a otras neuronas.\n",
        " - Synapse: Permite la comunicación con otras neuronas."
      ]
    },
    {
      "cell_type": "markdown",
      "metadata": {},
      "source": []
    }
  ],
  "metadata": {
    "accelerator": "GPU",
    "colab": {
      "provenance": []
    },
    "kernelspec": {
      "display_name": "Python 3",
      "name": "python3"
    }
  },
  "nbformat": 4,
  "nbformat_minor": 0
}
